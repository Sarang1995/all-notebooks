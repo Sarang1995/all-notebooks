{
 "cells": [
  {
   "cell_type": "markdown",
   "id": "838f8216-ec65-4685-b3fb-393a99bffee8",
   "metadata": {},
   "source": [
    "# Student Performance Analysis Using Dimensionality Reduction"
   ]
  },
  {
   "cell_type": "markdown",
   "id": "47ce51ad",
   "metadata": {},
   "source": [
    "In the era of big data, extracting meaningful insights from high-dimensional datasets is a critical challenge. Dimensionality reduction techniques such as **Principal Component Analysis (PCA)** and **t-Distributed Stochastic Neighbor Embedding (t-SNE)** enable us to uncover patterns and relationships in data by reducing its complexity while retaining the most important information.\n",
    "\n",
    "This project focuses on applying dimensionality reduction techniques to a student grade dataset, which contains information on students' academic performance. By leveraging PCA and t-SNE, the goal is to:\n",
    "\n",
    "* Reduce the dataset's dimensionality for easier visualization and analysis.\n",
    "* Identify key patterns and clusters among students, such as those who excel academically or struggle.\n",
    "\n",
    "**PCA** is used for linear dimensionality reduction by identifying the principal components that explain the maximum variance in the data, while **t-SNE** allows for non-linear mapping to uncover intricate, local patterns and clusters in a visually intuitive manner. Together, these techniques offer complementary insights, enabling a more comprehensive understanding of the dataset."
   ]
  },
  {
   "cell_type": "markdown",
   "id": "c0b9b428-1821-45e9-9c29-3841b4365584",
   "metadata": {},
   "source": [
    "## 1. Applying PCA"
   ]
  },
  {
   "cell_type": "code",
   "execution_count": 36,
   "id": "5bebee3a",
   "metadata": {},
   "outputs": [],
   "source": [
    "import numpy as np\n",
    "import pandas as pd\n",
    "import matplotlib.pyplot as plt\n",
    "import seaborn as sns"
   ]
  },
  {
   "cell_type": "code",
   "execution_count": 37,
   "id": "81e956c2-afa8-4891-91ec-5d90d5e32836",
   "metadata": {},
   "outputs": [
    {
     "data": {
      "text/html": [
       "<div>\n",
       "<style scoped>\n",
       "    .dataframe tbody tr th:only-of-type {\n",
       "        vertical-align: middle;\n",
       "    }\n",
       "\n",
       "    .dataframe tbody tr th {\n",
       "        vertical-align: top;\n",
       "    }\n",
       "\n",
       "    .dataframe thead th {\n",
       "        text-align: right;\n",
       "    }\n",
       "</style>\n",
       "<table border=\"1\" class=\"dataframe\">\n",
       "  <thead>\n",
       "    <tr style=\"text-align: right;\">\n",
       "      <th></th>\n",
       "      <th>student_id</th>\n",
       "      <th>math</th>\n",
       "      <th>science</th>\n",
       "      <th>cs</th>\n",
       "      <th>band</th>\n",
       "      <th>english</th>\n",
       "      <th>history</th>\n",
       "      <th>spanish</th>\n",
       "      <th>physed</th>\n",
       "    </tr>\n",
       "  </thead>\n",
       "  <tbody>\n",
       "    <tr>\n",
       "      <th>0</th>\n",
       "      <td>1</td>\n",
       "      <td>46</td>\n",
       "      <td>48</td>\n",
       "      <td>50</td>\n",
       "      <td>74</td>\n",
       "      <td>34</td>\n",
       "      <td>44</td>\n",
       "      <td>39</td>\n",
       "      <td>73</td>\n",
       "    </tr>\n",
       "    <tr>\n",
       "      <th>1</th>\n",
       "      <td>2</td>\n",
       "      <td>66</td>\n",
       "      <td>65</td>\n",
       "      <td>65</td>\n",
       "      <td>66</td>\n",
       "      <td>74</td>\n",
       "      <td>80</td>\n",
       "      <td>75</td>\n",
       "      <td>63</td>\n",
       "    </tr>\n",
       "    <tr>\n",
       "      <th>2</th>\n",
       "      <td>3</td>\n",
       "      <td>55</td>\n",
       "      <td>53</td>\n",
       "      <td>50</td>\n",
       "      <td>76</td>\n",
       "      <td>71</td>\n",
       "      <td>72</td>\n",
       "      <td>76</td>\n",
       "      <td>71</td>\n",
       "    </tr>\n",
       "    <tr>\n",
       "      <th>3</th>\n",
       "      <td>4</td>\n",
       "      <td>53</td>\n",
       "      <td>57</td>\n",
       "      <td>53</td>\n",
       "      <td>80</td>\n",
       "      <td>77</td>\n",
       "      <td>77</td>\n",
       "      <td>85</td>\n",
       "      <td>82</td>\n",
       "    </tr>\n",
       "    <tr>\n",
       "      <th>4</th>\n",
       "      <td>5</td>\n",
       "      <td>55</td>\n",
       "      <td>62</td>\n",
       "      <td>58</td>\n",
       "      <td>67</td>\n",
       "      <td>82</td>\n",
       "      <td>77</td>\n",
       "      <td>78</td>\n",
       "      <td>60</td>\n",
       "    </tr>\n",
       "  </tbody>\n",
       "</table>\n",
       "</div>"
      ],
      "text/plain": [
       "   student_id  math  science  cs  band  english  history  spanish  physed\n",
       "0           1    46       48  50    74       34       44       39      73\n",
       "1           2    66       65  65    66       74       80       75      63\n",
       "2           3    55       53  50    76       71       72       76      71\n",
       "3           4    53       57  53    80       77       77       85      82\n",
       "4           5    55       62  58    67       82       77       78      60"
      ]
     },
     "execution_count": 37,
     "metadata": {},
     "output_type": "execute_result"
    }
   ],
   "source": [
    "# 1. Read in the student grades data set\n",
    "\n",
    "df = pd.read_csv(\"G:/Study material/Data Science/ML/Unsupervised Learning/Data/student_grades.csv\")\n",
    "\n",
    "df.head()"
   ]
  },
  {
   "cell_type": "code",
   "execution_count": 38,
   "id": "4586f3b6-2c12-4166-b25f-34ed5212e616",
   "metadata": {},
   "outputs": [
    {
     "data": {
      "text/html": [
       "<div>\n",
       "<style scoped>\n",
       "    .dataframe tbody tr th:only-of-type {\n",
       "        vertical-align: middle;\n",
       "    }\n",
       "\n",
       "    .dataframe tbody tr th {\n",
       "        vertical-align: top;\n",
       "    }\n",
       "\n",
       "    .dataframe thead th {\n",
       "        text-align: right;\n",
       "    }\n",
       "</style>\n",
       "<table border=\"1\" class=\"dataframe\">\n",
       "  <thead>\n",
       "    <tr style=\"text-align: right;\">\n",
       "      <th></th>\n",
       "      <th>math</th>\n",
       "      <th>science</th>\n",
       "      <th>cs</th>\n",
       "      <th>band</th>\n",
       "      <th>english</th>\n",
       "      <th>history</th>\n",
       "      <th>spanish</th>\n",
       "      <th>physed</th>\n",
       "    </tr>\n",
       "  </thead>\n",
       "  <tbody>\n",
       "    <tr>\n",
       "      <th>0</th>\n",
       "      <td>46</td>\n",
       "      <td>48</td>\n",
       "      <td>50</td>\n",
       "      <td>74</td>\n",
       "      <td>34</td>\n",
       "      <td>44</td>\n",
       "      <td>39</td>\n",
       "      <td>73</td>\n",
       "    </tr>\n",
       "    <tr>\n",
       "      <th>1</th>\n",
       "      <td>66</td>\n",
       "      <td>65</td>\n",
       "      <td>65</td>\n",
       "      <td>66</td>\n",
       "      <td>74</td>\n",
       "      <td>80</td>\n",
       "      <td>75</td>\n",
       "      <td>63</td>\n",
       "    </tr>\n",
       "    <tr>\n",
       "      <th>2</th>\n",
       "      <td>55</td>\n",
       "      <td>53</td>\n",
       "      <td>50</td>\n",
       "      <td>76</td>\n",
       "      <td>71</td>\n",
       "      <td>72</td>\n",
       "      <td>76</td>\n",
       "      <td>71</td>\n",
       "    </tr>\n",
       "    <tr>\n",
       "      <th>3</th>\n",
       "      <td>53</td>\n",
       "      <td>57</td>\n",
       "      <td>53</td>\n",
       "      <td>80</td>\n",
       "      <td>77</td>\n",
       "      <td>77</td>\n",
       "      <td>85</td>\n",
       "      <td>82</td>\n",
       "    </tr>\n",
       "    <tr>\n",
       "      <th>4</th>\n",
       "      <td>55</td>\n",
       "      <td>62</td>\n",
       "      <td>58</td>\n",
       "      <td>67</td>\n",
       "      <td>82</td>\n",
       "      <td>77</td>\n",
       "      <td>78</td>\n",
       "      <td>60</td>\n",
       "    </tr>\n",
       "  </tbody>\n",
       "</table>\n",
       "</div>"
      ],
      "text/plain": [
       "   math  science  cs  band  english  history  spanish  physed\n",
       "0    46       48  50    74       34       44       39      73\n",
       "1    66       65  65    66       74       80       75      63\n",
       "2    55       53  50    76       71       72       76      71\n",
       "3    53       57  53    80       77       77       85      82\n",
       "4    55       62  58    67       82       77       78      60"
      ]
     },
     "execution_count": 38,
     "metadata": {},
     "output_type": "execute_result"
    }
   ],
   "source": [
    "# 2. Drop the first column with student_id\n",
    "\n",
    "data = df.drop(\"student_id\", axis=1)\n",
    "\n",
    "data.head()"
   ]
  },
  {
   "cell_type": "code",
   "execution_count": 39,
   "id": "e0ce403f-92ae-4635-9b8e-e157dc340bb6",
   "metadata": {},
   "outputs": [
    {
     "data": {
      "text/html": [
       "<div>\n",
       "<style scoped>\n",
       "    .dataframe tbody tr th:only-of-type {\n",
       "        vertical-align: middle;\n",
       "    }\n",
       "\n",
       "    .dataframe tbody tr th {\n",
       "        vertical-align: top;\n",
       "    }\n",
       "\n",
       "    .dataframe thead th {\n",
       "        text-align: right;\n",
       "    }\n",
       "</style>\n",
       "<table border=\"1\" class=\"dataframe\">\n",
       "  <thead>\n",
       "    <tr style=\"text-align: right;\">\n",
       "      <th></th>\n",
       "      <th>math</th>\n",
       "      <th>science</th>\n",
       "      <th>cs</th>\n",
       "      <th>band</th>\n",
       "      <th>english</th>\n",
       "      <th>history</th>\n",
       "      <th>spanish</th>\n",
       "      <th>physed</th>\n",
       "    </tr>\n",
       "  </thead>\n",
       "  <tbody>\n",
       "    <tr>\n",
       "      <th>0</th>\n",
       "      <td>-7.05</td>\n",
       "      <td>-5.22</td>\n",
       "      <td>-2.75</td>\n",
       "      <td>3.96</td>\n",
       "      <td>-26.97</td>\n",
       "      <td>-19.6</td>\n",
       "      <td>-26.56</td>\n",
       "      <td>5.39</td>\n",
       "    </tr>\n",
       "    <tr>\n",
       "      <th>1</th>\n",
       "      <td>12.95</td>\n",
       "      <td>11.78</td>\n",
       "      <td>12.25</td>\n",
       "      <td>-4.04</td>\n",
       "      <td>13.03</td>\n",
       "      <td>16.4</td>\n",
       "      <td>9.44</td>\n",
       "      <td>-4.61</td>\n",
       "    </tr>\n",
       "    <tr>\n",
       "      <th>2</th>\n",
       "      <td>1.95</td>\n",
       "      <td>-0.22</td>\n",
       "      <td>-2.75</td>\n",
       "      <td>5.96</td>\n",
       "      <td>10.03</td>\n",
       "      <td>8.4</td>\n",
       "      <td>10.44</td>\n",
       "      <td>3.39</td>\n",
       "    </tr>\n",
       "    <tr>\n",
       "      <th>3</th>\n",
       "      <td>-0.05</td>\n",
       "      <td>3.78</td>\n",
       "      <td>0.25</td>\n",
       "      <td>9.96</td>\n",
       "      <td>16.03</td>\n",
       "      <td>13.4</td>\n",
       "      <td>19.44</td>\n",
       "      <td>14.39</td>\n",
       "    </tr>\n",
       "    <tr>\n",
       "      <th>4</th>\n",
       "      <td>1.95</td>\n",
       "      <td>8.78</td>\n",
       "      <td>5.25</td>\n",
       "      <td>-3.04</td>\n",
       "      <td>21.03</td>\n",
       "      <td>13.4</td>\n",
       "      <td>12.44</td>\n",
       "      <td>-7.61</td>\n",
       "    </tr>\n",
       "  </tbody>\n",
       "</table>\n",
       "</div>"
      ],
      "text/plain": [
       "    math  science     cs  band  english  history  spanish  physed\n",
       "0  -7.05    -5.22  -2.75  3.96   -26.97    -19.6   -26.56    5.39\n",
       "1  12.95    11.78  12.25 -4.04    13.03     16.4     9.44   -4.61\n",
       "2   1.95    -0.22  -2.75  5.96    10.03      8.4    10.44    3.39\n",
       "3  -0.05     3.78   0.25  9.96    16.03     13.4    19.44   14.39\n",
       "4   1.95     8.78   5.25 -3.04    21.03     13.4    12.44   -7.61"
      ]
     },
     "execution_count": 39,
     "metadata": {},
     "output_type": "execute_result"
    }
   ],
   "source": [
    "# 3. Center the data\n",
    "\n",
    "df_centered = data - data.mean()\n",
    "\n",
    "df_centered.head()"
   ]
  },
  {
   "cell_type": "code",
   "execution_count": 40,
   "id": "1c8daa39-622c-4aeb-bf2c-20598b553db8",
   "metadata": {},
   "outputs": [
    {
     "data": {
      "text/html": [
       "<style>#sk-container-id-4 {color: black;background-color: white;}#sk-container-id-4 pre{padding: 0;}#sk-container-id-4 div.sk-toggleable {background-color: white;}#sk-container-id-4 label.sk-toggleable__label {cursor: pointer;display: block;width: 100%;margin-bottom: 0;padding: 0.3em;box-sizing: border-box;text-align: center;}#sk-container-id-4 label.sk-toggleable__label-arrow:before {content: \"▸\";float: left;margin-right: 0.25em;color: #696969;}#sk-container-id-4 label.sk-toggleable__label-arrow:hover:before {color: black;}#sk-container-id-4 div.sk-estimator:hover label.sk-toggleable__label-arrow:before {color: black;}#sk-container-id-4 div.sk-toggleable__content {max-height: 0;max-width: 0;overflow: hidden;text-align: left;background-color: #f0f8ff;}#sk-container-id-4 div.sk-toggleable__content pre {margin: 0.2em;color: black;border-radius: 0.25em;background-color: #f0f8ff;}#sk-container-id-4 input.sk-toggleable__control:checked~div.sk-toggleable__content {max-height: 200px;max-width: 100%;overflow: auto;}#sk-container-id-4 input.sk-toggleable__control:checked~label.sk-toggleable__label-arrow:before {content: \"▾\";}#sk-container-id-4 div.sk-estimator input.sk-toggleable__control:checked~label.sk-toggleable__label {background-color: #d4ebff;}#sk-container-id-4 div.sk-label input.sk-toggleable__control:checked~label.sk-toggleable__label {background-color: #d4ebff;}#sk-container-id-4 input.sk-hidden--visually {border: 0;clip: rect(1px 1px 1px 1px);clip: rect(1px, 1px, 1px, 1px);height: 1px;margin: -1px;overflow: hidden;padding: 0;position: absolute;width: 1px;}#sk-container-id-4 div.sk-estimator {font-family: monospace;background-color: #f0f8ff;border: 1px dotted black;border-radius: 0.25em;box-sizing: border-box;margin-bottom: 0.5em;}#sk-container-id-4 div.sk-estimator:hover {background-color: #d4ebff;}#sk-container-id-4 div.sk-parallel-item::after {content: \"\";width: 100%;border-bottom: 1px solid gray;flex-grow: 1;}#sk-container-id-4 div.sk-label:hover label.sk-toggleable__label {background-color: #d4ebff;}#sk-container-id-4 div.sk-serial::before {content: \"\";position: absolute;border-left: 1px solid gray;box-sizing: border-box;top: 0;bottom: 0;left: 50%;z-index: 0;}#sk-container-id-4 div.sk-serial {display: flex;flex-direction: column;align-items: center;background-color: white;padding-right: 0.2em;padding-left: 0.2em;position: relative;}#sk-container-id-4 div.sk-item {position: relative;z-index: 1;}#sk-container-id-4 div.sk-parallel {display: flex;align-items: stretch;justify-content: center;background-color: white;position: relative;}#sk-container-id-4 div.sk-item::before, #sk-container-id-4 div.sk-parallel-item::before {content: \"\";position: absolute;border-left: 1px solid gray;box-sizing: border-box;top: 0;bottom: 0;left: 50%;z-index: -1;}#sk-container-id-4 div.sk-parallel-item {display: flex;flex-direction: column;z-index: 1;position: relative;background-color: white;}#sk-container-id-4 div.sk-parallel-item:first-child::after {align-self: flex-end;width: 50%;}#sk-container-id-4 div.sk-parallel-item:last-child::after {align-self: flex-start;width: 50%;}#sk-container-id-4 div.sk-parallel-item:only-child::after {width: 0;}#sk-container-id-4 div.sk-dashed-wrapped {border: 1px dashed gray;margin: 0 0.4em 0.5em 0.4em;box-sizing: border-box;padding-bottom: 0.4em;background-color: white;}#sk-container-id-4 div.sk-label label {font-family: monospace;font-weight: bold;display: inline-block;line-height: 1.2em;}#sk-container-id-4 div.sk-label-container {text-align: center;}#sk-container-id-4 div.sk-container {/* jupyter's `normalize.less` sets `[hidden] { display: none; }` but bootstrap.min.css set `[hidden] { display: none !important; }` so we also need the `!important` here to be able to override the default hidden behavior on the sphinx rendered scikit-learn.org. See: https://github.com/scikit-learn/scikit-learn/issues/21755 */display: inline-block !important;position: relative;}#sk-container-id-4 div.sk-text-repr-fallback {display: none;}</style><div id=\"sk-container-id-4\" class=\"sk-top-container\"><div class=\"sk-text-repr-fallback\"><pre>PCA(n_components=2)</pre><b>In a Jupyter environment, please rerun this cell to show the HTML representation or trust the notebook. <br />On GitHub, the HTML representation is unable to render, please try loading this page with nbviewer.org.</b></div><div class=\"sk-container\" hidden><div class=\"sk-item\"><div class=\"sk-estimator sk-toggleable\"><input class=\"sk-toggleable__control sk-hidden--visually\" id=\"sk-estimator-id-4\" type=\"checkbox\" checked><label for=\"sk-estimator-id-4\" class=\"sk-toggleable__label sk-toggleable__label-arrow\">PCA</label><div class=\"sk-toggleable__content\"><pre>PCA(n_components=2)</pre></div></div></div></div></div>"
      ],
      "text/plain": [
       "PCA(n_components=2)"
      ]
     },
     "execution_count": 40,
     "metadata": {},
     "output_type": "execute_result"
    }
   ],
   "source": [
    "# 4. Fit a PCA model with 2 components\n",
    "from sklearn.decomposition import PCA\n",
    "\n",
    "pca = PCA(n_components=2)\n",
    "\n",
    "pca.fit(df_centered)\n"
   ]
  },
  {
   "cell_type": "code",
   "execution_count": 41,
   "id": "f24ff184-d75c-4e82-84de-e0d940e54cab",
   "metadata": {},
   "outputs": [
    {
     "data": {
      "text/plain": [
       "array([0.81844937, 0.09778153])"
      ]
     },
     "execution_count": 41,
     "metadata": {},
     "output_type": "execute_result"
    }
   ],
   "source": [
    "# 5. View and interpret the explained variance ratios\n",
    "\n",
    "pca.explained_variance_ratio_"
   ]
  },
  {
   "cell_type": "markdown",
   "id": "48643538-7265-48d2-9076-0015d16c65cb",
   "metadata": {},
   "source": [
    "## 2. Interpreting PCA "
   ]
  },
  {
   "cell_type": "code",
   "execution_count": 42,
   "id": "9a2db95b-9c19-4103-b64d-049ae22ba5de",
   "metadata": {},
   "outputs": [
    {
     "data": {
      "text/plain": [
       "array([[ 0.34433892,  0.34662586,  0.32733313, -0.00417335,  0.45552196,\n",
       "         0.46095972,  0.48354746,  0.01773586],\n",
       "       [ 0.45069884,  0.44923506,  0.47433583,  0.096715  , -0.33260806,\n",
       "        -0.31949261, -0.35110809,  0.15725648]])"
      ]
     },
     "execution_count": 42,
     "metadata": {},
     "output_type": "execute_result"
    }
   ],
   "source": [
    "# 1. View and interpret the components of the PCA model\n",
    "\n",
    "pca.components_\n"
   ]
  },
  {
   "cell_type": "code",
   "execution_count": 43,
   "id": "5c2a1fb0",
   "metadata": {},
   "outputs": [
    {
     "data": {
      "text/plain": [
       "Index(['math', 'science', 'cs', 'band', 'english', 'history', 'spanish',\n",
       "       'physed'],\n",
       "      dtype='object')"
      ]
     },
     "execution_count": 43,
     "metadata": {},
     "output_type": "execute_result"
    }
   ],
   "source": [
    "df_centered.columns"
   ]
  },
  {
   "cell_type": "markdown",
   "id": "aa8d1983",
   "metadata": {},
   "source": [
    "**Component interpretation:**\n",
    "* PC1: higher = better grades in general\n",
    "* PC2: higher = good at math / science / cs, lower = good at english / history / spanish"
   ]
  },
  {
   "cell_type": "markdown",
   "id": "57a12e14",
   "metadata": {},
   "source": [
    "Plot the students on a scatter plot with the x-axis as PC 1 and the y-axis as PC 2"
   ]
  },
  {
   "cell_type": "code",
   "execution_count": 44,
   "id": "d17944dc-c0f6-47e0-b472-719f97f91f4f",
   "metadata": {},
   "outputs": [
    {
     "data": {
      "text/html": [
       "<div>\n",
       "<style scoped>\n",
       "    .dataframe tbody tr th:only-of-type {\n",
       "        vertical-align: middle;\n",
       "    }\n",
       "\n",
       "    .dataframe tbody tr th {\n",
       "        vertical-align: top;\n",
       "    }\n",
       "\n",
       "    .dataframe thead th {\n",
       "        text-align: right;\n",
       "    }\n",
       "</style>\n",
       "<table border=\"1\" class=\"dataframe\">\n",
       "  <thead>\n",
       "    <tr style=\"text-align: right;\">\n",
       "      <th></th>\n",
       "      <th>pc1</th>\n",
       "      <th>pc2</th>\n",
       "    </tr>\n",
       "  </thead>\n",
       "  <tbody>\n",
       "    <tr>\n",
       "      <th>0</th>\n",
       "      <td>-39.221331</td>\n",
       "      <td>18.961672</td>\n",
       "    </tr>\n",
       "    <tr>\n",
       "      <th>1</th>\n",
       "      <td>30.547249</td>\n",
       "      <td>2.935450</td>\n",
       "    </tr>\n",
       "    <tr>\n",
       "      <th>2</th>\n",
       "      <td>13.219471</td>\n",
       "      <td>-9.100237</td>\n",
       "    </tr>\n",
       "    <tr>\n",
       "      <th>3</th>\n",
       "      <td>24.467554</td>\n",
       "      <td>-11.418090</td>\n",
       "    </tr>\n",
       "    <tr>\n",
       "      <th>4</th>\n",
       "      <td>27.082869</td>\n",
       "      <td>-9.821059</td>\n",
       "    </tr>\n",
       "  </tbody>\n",
       "</table>\n",
       "</div>"
      ],
      "text/plain": [
       "         pc1        pc2\n",
       "0 -39.221331  18.961672\n",
       "1  30.547249   2.935450\n",
       "2  13.219471  -9.100237\n",
       "3  24.467554 -11.418090\n",
       "4  27.082869  -9.821059"
      ]
     },
     "execution_count": 44,
     "metadata": {},
     "output_type": "execute_result"
    }
   ],
   "source": [
    "df_transformed = pd.DataFrame(pca.transform(df_centered), columns=['pc1','pc2'])\n",
    "\n",
    "df_transformed.head()                            "
   ]
  },
  {
   "cell_type": "code",
   "execution_count": 45,
   "id": "15878883",
   "metadata": {},
   "outputs": [
    {
     "data": {
      "image/png": "[encoded data removed]",
      "text/plain": [
       "<Figure size 640x480 with 1 Axes>"
      ]
     },
     "metadata": {},
     "output_type": "display_data"
    }
   ],
   "source": [
    "sns.scatterplot(x='pc1', y='pc2', data=df_transformed)\n",
    "\n",
    "plt.xlabel('Better Grades -->')\n",
    "plt.ylabel('<-- Better in Humanities     Better in STEM -->');\n"
   ]
  },
  {
   "cell_type": "markdown",
   "id": "c7e98459",
   "metadata": {},
   "source": [
    "Interpret the clusters of students that you see and make recommendations for the guidance counselor"
   ]
  },
  {
   "cell_type": "markdown",
   "id": "1255a33c",
   "metadata": {},
   "source": [
    "**Recommendations:**\n",
    "* The students at the top right have high grades and are good in STEM - **recommend top technical universities for them**\n",
    "* The students at the top left are strong in STEM, but could use better grades overall - **encourage them to pursue STEM majors**\n",
    "* The students at the bottom left are strong in humanities, but could use better grades overall - **encourage them to pursue humanities majors**\n",
    "* For the remaining students in the middle - **work with them to help them figure out what type of careers they are interested in**"
   ]
  },
  {
   "cell_type": "markdown",
   "id": "53eb1068-9576-4a22-b0c0-518f19f35b5b",
   "metadata": {},
   "source": [
    "## 3. T-SNE"
   ]
  },
  {
   "cell_type": "code",
   "execution_count": 46,
   "id": "5a43a505",
   "metadata": {},
   "outputs": [
    {
     "data": {
      "text/html": [
       "<div>\n",
       "<style scoped>\n",
       "    .dataframe tbody tr th:only-of-type {\n",
       "        vertical-align: middle;\n",
       "    }\n",
       "\n",
       "    .dataframe tbody tr th {\n",
       "        vertical-align: top;\n",
       "    }\n",
       "\n",
       "    .dataframe thead th {\n",
       "        text-align: right;\n",
       "    }\n",
       "</style>\n",
       "<table border=\"1\" class=\"dataframe\">\n",
       "  <thead>\n",
       "    <tr style=\"text-align: right;\">\n",
       "      <th></th>\n",
       "      <th>student_id</th>\n",
       "      <th>math</th>\n",
       "      <th>science</th>\n",
       "      <th>cs</th>\n",
       "      <th>band</th>\n",
       "      <th>english</th>\n",
       "      <th>history</th>\n",
       "      <th>spanish</th>\n",
       "      <th>physed</th>\n",
       "    </tr>\n",
       "  </thead>\n",
       "  <tbody>\n",
       "    <tr>\n",
       "      <th>0</th>\n",
       "      <td>1</td>\n",
       "      <td>46</td>\n",
       "      <td>48</td>\n",
       "      <td>50</td>\n",
       "      <td>74</td>\n",
       "      <td>34</td>\n",
       "      <td>44</td>\n",
       "      <td>39</td>\n",
       "      <td>73</td>\n",
       "    </tr>\n",
       "    <tr>\n",
       "      <th>1</th>\n",
       "      <td>2</td>\n",
       "      <td>66</td>\n",
       "      <td>65</td>\n",
       "      <td>65</td>\n",
       "      <td>66</td>\n",
       "      <td>74</td>\n",
       "      <td>80</td>\n",
       "      <td>75</td>\n",
       "      <td>63</td>\n",
       "    </tr>\n",
       "    <tr>\n",
       "      <th>2</th>\n",
       "      <td>3</td>\n",
       "      <td>55</td>\n",
       "      <td>53</td>\n",
       "      <td>50</td>\n",
       "      <td>76</td>\n",
       "      <td>71</td>\n",
       "      <td>72</td>\n",
       "      <td>76</td>\n",
       "      <td>71</td>\n",
       "    </tr>\n",
       "    <tr>\n",
       "      <th>3</th>\n",
       "      <td>4</td>\n",
       "      <td>53</td>\n",
       "      <td>57</td>\n",
       "      <td>53</td>\n",
       "      <td>80</td>\n",
       "      <td>77</td>\n",
       "      <td>77</td>\n",
       "      <td>85</td>\n",
       "      <td>82</td>\n",
       "    </tr>\n",
       "    <tr>\n",
       "      <th>4</th>\n",
       "      <td>5</td>\n",
       "      <td>55</td>\n",
       "      <td>62</td>\n",
       "      <td>58</td>\n",
       "      <td>67</td>\n",
       "      <td>82</td>\n",
       "      <td>77</td>\n",
       "      <td>78</td>\n",
       "      <td>60</td>\n",
       "    </tr>\n",
       "  </tbody>\n",
       "</table>\n",
       "</div>"
      ],
      "text/plain": [
       "   student_id  math  science  cs  band  english  history  spanish  physed\n",
       "0           1    46       48  50    74       34       44       39      73\n",
       "1           2    66       65  65    66       74       80       75      63\n",
       "2           3    55       53  50    76       71       72       76      71\n",
       "3           4    53       57  53    80       77       77       85      82\n",
       "4           5    55       62  58    67       82       77       78      60"
      ]
     },
     "execution_count": 46,
     "metadata": {},
     "output_type": "execute_result"
    }
   ],
   "source": [
    "df.head()"
   ]
  },
  {
   "cell_type": "code",
   "execution_count": 47,
   "id": "18ef3ee1-163e-415d-9d0d-710b6c821995",
   "metadata": {},
   "outputs": [
    {
     "data": {
      "text/plain": [
       "array([[-1.5734589 ,  6.10377   ],\n",
       "       [ 3.427893  , -4.404862  ],\n",
       "       [ 0.7254288 , -2.9357116 ],\n",
       "       [ 0.4212363 , -4.6124196 ],\n",
       "       [ 2.9107046 , -3.9459162 ],\n",
       "       [-3.1954763 ,  6.554412  ],\n",
       "       [ 2.4522474 , -1.3486809 ],\n",
       "       [-1.2202612 ,  1.7235402 ],\n",
       "       [-2.9108696 ,  3.7630522 ],\n",
       "       [ 3.6949177 , -6.9026666 ],\n",
       "       [-2.230706  ,  7.2501187 ],\n",
       "       [ 1.1280148 , -2.6172957 ],\n",
       "       [ 2.825058  , -2.5318267 ],\n",
       "       [ 0.37880003, -3.3707914 ],\n",
       "       [ 1.2254987 , -1.4357209 ],\n",
       "       [-2.7841039 ,  6.8466473 ],\n",
       "       [-0.05059153, -3.2585018 ],\n",
       "       [ 2.9010646 , -3.350396  ],\n",
       "       [ 1.4604477 , -5.231672  ],\n",
       "       [-2.9098046 ,  6.2601204 ],\n",
       "       [ 1.3390366 , -5.036453  ],\n",
       "       [ 1.4443107 , -3.6457798 ],\n",
       "       [-1.5630918 ,  1.8373545 ],\n",
       "       [ 0.19032562, -3.7325032 ],\n",
       "       [ 3.8262773 , -4.565785  ],\n",
       "       [-0.28854024,  2.0903692 ],\n",
       "       [-1.6652577 ,  1.0519773 ],\n",
       "       [-2.731396  ,  2.5472624 ],\n",
       "       [ 3.2596722 , -4.2366157 ],\n",
       "       [-4.2552223 ,  6.0586996 ],\n",
       "       [ 0.7660594 , -5.0909424 ],\n",
       "       [-1.6211616 ,  3.4269652 ],\n",
       "       [-1.7096871 ,  1.6350353 ],\n",
       "       [-2.0974507 ,  2.9655888 ],\n",
       "       [-3.491548  ,  6.522977  ],\n",
       "       [-1.944389  ,  2.2765677 ],\n",
       "       [ 3.7374196 , -7.4351606 ],\n",
       "       [ 0.52239007, -1.6126107 ],\n",
       "       [-3.1178057 ,  5.89204   ],\n",
       "       [ 3.1767492 , -7.6392484 ],\n",
       "       [-2.5369918 ,  6.6031294 ],\n",
       "       [-1.4426956 ,  2.054371  ],\n",
       "       [-1.7306064 ,  7.0416255 ],\n",
       "       [-2.73051   ,  2.1138048 ],\n",
       "       [ 0.36923444, -2.3742647 ],\n",
       "       [ 0.28039756,  1.862611  ],\n",
       "       [-2.035734  ,  6.51117   ],\n",
       "       [-0.48129767, -4.004271  ],\n",
       "       [-1.4617623 ,  6.4194207 ],\n",
       "       [ 0.6971438 , -1.0361603 ],\n",
       "       [-0.12853214, -1.6402837 ],\n",
       "       [-0.73872775,  2.309304  ],\n",
       "       [-0.87058055, -3.1508873 ],\n",
       "       [-3.1348362 ,  7.1902213 ],\n",
       "       [ 0.8854177 , -3.3349957 ],\n",
       "       [-1.6718546 ,  2.3015733 ],\n",
       "       [-1.7723382 ,  5.4684615 ],\n",
       "       [ 3.291382  , -4.9939976 ],\n",
       "       [-1.0935224 ,  6.6104    ],\n",
       "       [-1.1062404 ,  4.312161  ],\n",
       "       [ 3.2829485 , -7.3816767 ],\n",
       "       [-2.4578342 ,  6.176796  ],\n",
       "       [-2.6378653 ,  1.4015628 ],\n",
       "       [ 2.7873206 , -3.3315032 ],\n",
       "       [-1.9740496 ,  5.794198  ],\n",
       "       [ 3.8492718 , -6.9330573 ],\n",
       "       [ 3.0206602 , -2.953729  ],\n",
       "       [-3.528458  ,  5.377593  ],\n",
       "       [-1.1134169 ,  0.88355535],\n",
       "       [ 2.6824865 , -4.468053  ],\n",
       "       [ 2.4185646 , -3.997436  ],\n",
       "       [ 2.0158763 , -2.9393675 ],\n",
       "       [ 0.48759946, -4.0241475 ],\n",
       "       [-0.31225872,  2.935289  ],\n",
       "       [-0.58185077,  0.24700437],\n",
       "       [-3.2952929 ,  4.384848  ],\n",
       "       [-1.1488123 ,  5.422675  ],\n",
       "       [ 1.3503859 , -5.5403943 ],\n",
       "       [-0.41657525,  3.193687  ],\n",
       "       [ 3.2189217 , -7.5386596 ],\n",
       "       [-1.8948735 ,  6.199621  ],\n",
       "       [-1.1167108 ,  2.6034534 ],\n",
       "       [ 1.0520946 , -0.64649445],\n",
       "       [ 1.0129846 , -4.878356  ],\n",
       "       [-0.4157978 , -2.89328   ],\n",
       "       [ 0.95950633, -3.198997  ],\n",
       "       [ 1.3430946 , -2.2137208 ],\n",
       "       [-0.405053  ,  3.9460788 ],\n",
       "       [-0.35954174, -0.5389393 ],\n",
       "       [ 3.353782  , -7.191078  ],\n",
       "       [-1.4991423 ,  4.3179855 ],\n",
       "       [ 0.24093029, -0.4231768 ],\n",
       "       [ 3.4968214 , -7.1609    ],\n",
       "       [ 3.7114568 , -3.8135917 ],\n",
       "       [ 0.6632079 , -1.9846617 ],\n",
       "       [ 3.8154154 , -7.1127195 ],\n",
       "       [-1.5665443 ,  4.860415  ],\n",
       "       [-3.4456558 ,  5.0133934 ],\n",
       "       [-1.7763035 ,  4.54443   ],\n",
       "       [ 2.366072  , -3.2076688 ]], dtype=float32)"
      ]
     },
     "execution_count": 47,
     "metadata": {},
     "output_type": "execute_result"
    }
   ],
   "source": [
    "# 1. Fit a t-SNE model with 2 components\n",
    "\n",
    "from sklearn.manifold import TSNE\n",
    "\n",
    "tsne = TSNE(n_components=2, random_state=42)\n",
    "\n",
    "data_tsne = tsne.fit_transform(data)\n",
    "\n",
    "data_tsne"
   ]
  },
  {
   "cell_type": "code",
   "execution_count": 48,
   "id": "b42f1c98",
   "metadata": {},
   "outputs": [
    {
     "data": {
      "text/html": [
       "<div>\n",
       "<style scoped>\n",
       "    .dataframe tbody tr th:only-of-type {\n",
       "        vertical-align: middle;\n",
       "    }\n",
       "\n",
       "    .dataframe tbody tr th {\n",
       "        vertical-align: top;\n",
       "    }\n",
       "\n",
       "    .dataframe thead th {\n",
       "        text-align: right;\n",
       "    }\n",
       "</style>\n",
       "<table border=\"1\" class=\"dataframe\">\n",
       "  <thead>\n",
       "    <tr style=\"text-align: right;\">\n",
       "      <th></th>\n",
       "      <th>Component1</th>\n",
       "      <th>Component2</th>\n",
       "    </tr>\n",
       "  </thead>\n",
       "  <tbody>\n",
       "    <tr>\n",
       "      <th>0</th>\n",
       "      <td>-1.573459</td>\n",
       "      <td>6.103770</td>\n",
       "    </tr>\n",
       "    <tr>\n",
       "      <th>1</th>\n",
       "      <td>3.427893</td>\n",
       "      <td>-4.404862</td>\n",
       "    </tr>\n",
       "    <tr>\n",
       "      <th>2</th>\n",
       "      <td>0.725429</td>\n",
       "      <td>-2.935712</td>\n",
       "    </tr>\n",
       "    <tr>\n",
       "      <th>3</th>\n",
       "      <td>0.421236</td>\n",
       "      <td>-4.612420</td>\n",
       "    </tr>\n",
       "    <tr>\n",
       "      <th>4</th>\n",
       "      <td>2.910705</td>\n",
       "      <td>-3.945916</td>\n",
       "    </tr>\n",
       "  </tbody>\n",
       "</table>\n",
       "</div>"
      ],
      "text/plain": [
       "   Component1  Component2\n",
       "0   -1.573459    6.103770\n",
       "1    3.427893   -4.404862\n",
       "2    0.725429   -2.935712\n",
       "3    0.421236   -4.612420\n",
       "4    2.910705   -3.945916"
      ]
     },
     "execution_count": 48,
     "metadata": {},
     "output_type": "execute_result"
    }
   ],
   "source": [
    "data_TSNE = pd.DataFrame(data_tsne, columns=[\"Component1\",\"Component2\"])\n",
    "\n",
    "data_TSNE.head()"
   ]
  },
  {
   "cell_type": "code",
   "execution_count": 49,
   "id": "0a1997ca-a2e2-4eb5-bbf6-0720149426b1",
   "metadata": {},
   "outputs": [
    {
     "data": {
      "image/png": "[encoded data removed]",
      "text/plain": [
       "<Figure size 640x480 with 1 Axes>"
      ]
     },
     "metadata": {},
     "output_type": "display_data"
    }
   ],
   "source": [
    "# 2. Plot the students on a scatter plot with the x-axis as component 1 and the y-axis as component 2\n",
    "\n",
    "sns.scatterplot(x=\"Component1\", y=\"Component2\", data=data_TSNE)\n",
    "\n",
    "plt.show()\n"
   ]
  },
  {
   "cell_type": "markdown",
   "id": "3f3f6dc1",
   "metadata": {},
   "source": [
    "**Interpret the data you see on the plot**\n",
    "\n",
    "* There seems to be a small cluster of students at the bottom right\n",
    "* There seem to be three overall clusters"
   ]
  },
  {
   "cell_type": "markdown",
   "id": "98ca0a29-5d97-4294-8f72-8da834be40a5",
   "metadata": {},
   "source": [
    "## 4. PCA with Colors"
   ]
  },
  {
   "cell_type": "code",
   "execution_count": 51,
   "id": "de720214-8e11-4240-8122-3a42fa207b67",
   "metadata": {},
   "outputs": [
    {
     "name": "stderr",
     "output_type": "stream",
     "text": [
      "C:\\Users\\yogesh\\anaconda3\\lib\\site-packages\\sklearn\\cluster\\_kmeans.py:1382: UserWarning: KMeans is known to have a memory leak on Windows with MKL, when there are less chunks than available threads. You can avoid it by setting the environment variable OMP_NUM_THREADS=1.\n",
      "  warnings.warn(\n"
     ]
    },
    {
     "data": {
      "text/html": [
       "<style>#sk-container-id-5 {color: black;background-color: white;}#sk-container-id-5 pre{padding: 0;}#sk-container-id-5 div.sk-toggleable {background-color: white;}#sk-container-id-5 label.sk-toggleable__label {cursor: pointer;display: block;width: 100%;margin-bottom: 0;padding: 0.3em;box-sizing: border-box;text-align: center;}#sk-container-id-5 label.sk-toggleable__label-arrow:before {content: \"▸\";float: left;margin-right: 0.25em;color: #696969;}#sk-container-id-5 label.sk-toggleable__label-arrow:hover:before {color: black;}#sk-container-id-5 div.sk-estimator:hover label.sk-toggleable__label-arrow:before {color: black;}#sk-container-id-5 div.sk-toggleable__content {max-height: 0;max-width: 0;overflow: hidden;text-align: left;background-color: #f0f8ff;}#sk-container-id-5 div.sk-toggleable__content pre {margin: 0.2em;color: black;border-radius: 0.25em;background-color: #f0f8ff;}#sk-container-id-5 input.sk-toggleable__control:checked~div.sk-toggleable__content {max-height: 200px;max-width: 100%;overflow: auto;}#sk-container-id-5 input.sk-toggleable__control:checked~label.sk-toggleable__label-arrow:before {content: \"▾\";}#sk-container-id-5 div.sk-estimator input.sk-toggleable__control:checked~label.sk-toggleable__label {background-color: #d4ebff;}#sk-container-id-5 div.sk-label input.sk-toggleable__control:checked~label.sk-toggleable__label {background-color: #d4ebff;}#sk-container-id-5 input.sk-hidden--visually {border: 0;clip: rect(1px 1px 1px 1px);clip: rect(1px, 1px, 1px, 1px);height: 1px;margin: -1px;overflow: hidden;padding: 0;position: absolute;width: 1px;}#sk-container-id-5 div.sk-estimator {font-family: monospace;background-color: #f0f8ff;border: 1px dotted black;border-radius: 0.25em;box-sizing: border-box;margin-bottom: 0.5em;}#sk-container-id-5 div.sk-estimator:hover {background-color: #d4ebff;}#sk-container-id-5 div.sk-parallel-item::after {content: \"\";width: 100%;border-bottom: 1px solid gray;flex-grow: 1;}#sk-container-id-5 div.sk-label:hover label.sk-toggleable__label {background-color: #d4ebff;}#sk-container-id-5 div.sk-serial::before {content: \"\";position: absolute;border-left: 1px solid gray;box-sizing: border-box;top: 0;bottom: 0;left: 50%;z-index: 0;}#sk-container-id-5 div.sk-serial {display: flex;flex-direction: column;align-items: center;background-color: white;padding-right: 0.2em;padding-left: 0.2em;position: relative;}#sk-container-id-5 div.sk-item {position: relative;z-index: 1;}#sk-container-id-5 div.sk-parallel {display: flex;align-items: stretch;justify-content: center;background-color: white;position: relative;}#sk-container-id-5 div.sk-item::before, #sk-container-id-5 div.sk-parallel-item::before {content: \"\";position: absolute;border-left: 1px solid gray;box-sizing: border-box;top: 0;bottom: 0;left: 50%;z-index: -1;}#sk-container-id-5 div.sk-parallel-item {display: flex;flex-direction: column;z-index: 1;position: relative;background-color: white;}#sk-container-id-5 div.sk-parallel-item:first-child::after {align-self: flex-end;width: 50%;}#sk-container-id-5 div.sk-parallel-item:last-child::after {align-self: flex-start;width: 50%;}#sk-container-id-5 div.sk-parallel-item:only-child::after {width: 0;}#sk-container-id-5 div.sk-dashed-wrapped {border: 1px dashed gray;margin: 0 0.4em 0.5em 0.4em;box-sizing: border-box;padding-bottom: 0.4em;background-color: white;}#sk-container-id-5 div.sk-label label {font-family: monospace;font-weight: bold;display: inline-block;line-height: 1.2em;}#sk-container-id-5 div.sk-label-container {text-align: center;}#sk-container-id-5 div.sk-container {/* jupyter's `normalize.less` sets `[hidden] { display: none; }` but bootstrap.min.css set `[hidden] { display: none !important; }` so we also need the `!important` here to be able to override the default hidden behavior on the sphinx rendered scikit-learn.org. See: https://github.com/scikit-learn/scikit-learn/issues/21755 */display: inline-block !important;position: relative;}#sk-container-id-5 div.sk-text-repr-fallback {display: none;}</style><div id=\"sk-container-id-5\" class=\"sk-top-container\"><div class=\"sk-text-repr-fallback\"><pre>KMeans(n_clusters=2, n_init=&#x27;auto&#x27;, random_state=42)</pre><b>In a Jupyter environment, please rerun this cell to show the HTML representation or trust the notebook. <br />On GitHub, the HTML representation is unable to render, please try loading this page with nbviewer.org.</b></div><div class=\"sk-container\" hidden><div class=\"sk-item\"><div class=\"sk-estimator sk-toggleable\"><input class=\"sk-toggleable__control sk-hidden--visually\" id=\"sk-estimator-id-5\" type=\"checkbox\" checked><label for=\"sk-estimator-id-5\" class=\"sk-toggleable__label sk-toggleable__label-arrow\">KMeans</label><div class=\"sk-toggleable__content\"><pre>KMeans(n_clusters=2, n_init=&#x27;auto&#x27;, random_state=42)</pre></div></div></div></div></div>"
      ],
      "text/plain": [
       "KMeans(n_clusters=2, n_init='auto', random_state=42)"
      ]
     },
     "execution_count": 51,
     "metadata": {},
     "output_type": "execute_result"
    }
   ],
   "source": [
    "# 1. Fit a KMeans model with 3 clusters\n",
    "from sklearn.cluster import KMeans\n",
    "\n",
    "kmeans2 = KMeans(n_clusters=2, n_init='auto', random_state=42)\n",
    "\n",
    "kmeans2.fit(data)\n"
   ]
  },
  {
   "cell_type": "code",
   "execution_count": 52,
   "id": "ffd9abb4",
   "metadata": {},
   "outputs": [
    {
     "data": {
      "text/plain": [
       "array([0, 1, 1, 1, 1, 0, 1, 0, 0, 1, 0, 1, 1, 1, 1, 0, 1, 1, 1, 0, 1, 1,\n",
       "       0, 1, 1, 0, 0, 0, 1, 0, 1, 0, 0, 0, 0, 0, 1, 1, 0, 1, 0, 0, 0, 0,\n",
       "       1, 0, 0, 1, 0, 1, 1, 0, 1, 0, 1, 0, 0, 1, 0, 0, 1, 0, 0, 1, 0, 1,\n",
       "       1, 0, 0, 1, 1, 1, 1, 0, 0, 0, 0, 1, 0, 1, 0, 0, 1, 1, 1, 1, 1, 0,\n",
       "       1, 1, 0, 1, 1, 1, 1, 1, 0, 0, 0, 1])"
      ]
     },
     "execution_count": 52,
     "metadata": {},
     "output_type": "execute_result"
    }
   ],
   "source": [
    "kmeans_labels2 = kmeans2.labels_\n",
    "kmeans_labels2"
   ]
  },
  {
   "cell_type": "code",
   "execution_count": 53,
   "id": "2ff19660",
   "metadata": {},
   "outputs": [
    {
     "data": {
      "text/plain": [
       "array([[42.72916667, 42.89583333, 43.20833333, 69.64583333, 46.04166667,\n",
       "        48.39583333, 49.625     , 66.4375    ],\n",
       "       [62.57692308, 62.75      , 61.55769231, 70.40384615, 74.75      ,\n",
       "        77.63461538, 80.26923077, 68.69230769]])"
      ]
     },
     "execution_count": 53,
     "metadata": {},
     "output_type": "execute_result"
    }
   ],
   "source": [
    "kmeans2.cluster_centers_"
   ]
  },
  {
   "cell_type": "code",
   "execution_count": 54,
   "id": "07ecd234",
   "metadata": {},
   "outputs": [
    {
     "data": {
      "text/html": [
       "<div>\n",
       "<style scoped>\n",
       "    .dataframe tbody tr th:only-of-type {\n",
       "        vertical-align: middle;\n",
       "    }\n",
       "\n",
       "    .dataframe tbody tr th {\n",
       "        vertical-align: top;\n",
       "    }\n",
       "\n",
       "    .dataframe thead th {\n",
       "        text-align: right;\n",
       "    }\n",
       "</style>\n",
       "<table border=\"1\" class=\"dataframe\">\n",
       "  <thead>\n",
       "    <tr style=\"text-align: right;\">\n",
       "      <th></th>\n",
       "      <th>math</th>\n",
       "      <th>science</th>\n",
       "      <th>cs</th>\n",
       "      <th>band</th>\n",
       "      <th>english</th>\n",
       "      <th>history</th>\n",
       "      <th>spanish</th>\n",
       "      <th>physed</th>\n",
       "    </tr>\n",
       "  </thead>\n",
       "  <tbody>\n",
       "    <tr>\n",
       "      <th>0</th>\n",
       "      <td>42.729167</td>\n",
       "      <td>42.895833</td>\n",
       "      <td>43.208333</td>\n",
       "      <td>69.645833</td>\n",
       "      <td>46.041667</td>\n",
       "      <td>48.395833</td>\n",
       "      <td>49.625000</td>\n",
       "      <td>66.437500</td>\n",
       "    </tr>\n",
       "    <tr>\n",
       "      <th>1</th>\n",
       "      <td>62.576923</td>\n",
       "      <td>62.750000</td>\n",
       "      <td>61.557692</td>\n",
       "      <td>70.403846</td>\n",
       "      <td>74.750000</td>\n",
       "      <td>77.634615</td>\n",
       "      <td>80.269231</td>\n",
       "      <td>68.692308</td>\n",
       "    </tr>\n",
       "  </tbody>\n",
       "</table>\n",
       "</div>"
      ],
      "text/plain": [
       "        math    science         cs       band    english    history  \\\n",
       "0  42.729167  42.895833  43.208333  69.645833  46.041667  48.395833   \n",
       "1  62.576923  62.750000  61.557692  70.403846  74.750000  77.634615   \n",
       "\n",
       "     spanish     physed  \n",
       "0  49.625000  66.437500  \n",
       "1  80.269231  68.692308  "
      ]
     },
     "execution_count": 54,
     "metadata": {},
     "output_type": "execute_result"
    }
   ],
   "source": [
    "kmeans_df = pd.DataFrame(kmeans2.cluster_centers_, columns=data.columns)\n",
    "kmeans_df"
   ]
  },
  {
   "cell_type": "code",
   "execution_count": 55,
   "id": "33117e81",
   "metadata": {},
   "outputs": [
    {
     "data": {
      "image/png": "[encoded data removed]",
      "text/plain": [
       "<Figure size 1000x200 with 2 Axes>"
      ]
     },
     "metadata": {},
     "output_type": "display_data"
    }
   ],
   "source": [
    "plt.figure(figsize=(10, 2))\n",
    "\n",
    "sns.heatmap(kmeans_df, annot=True, cmap=\"RdBu\")\n",
    "\n",
    "plt.show()"
   ]
  },
  {
   "cell_type": "code",
   "execution_count": 56,
   "id": "21fe217d",
   "metadata": {},
   "outputs": [
    {
     "data": {
      "text/html": [
       "<style>#sk-container-id-6 {color: black;background-color: white;}#sk-container-id-6 pre{padding: 0;}#sk-container-id-6 div.sk-toggleable {background-color: white;}#sk-container-id-6 label.sk-toggleable__label {cursor: pointer;display: block;width: 100%;margin-bottom: 0;padding: 0.3em;box-sizing: border-box;text-align: center;}#sk-container-id-6 label.sk-toggleable__label-arrow:before {content: \"▸\";float: left;margin-right: 0.25em;color: #696969;}#sk-container-id-6 label.sk-toggleable__label-arrow:hover:before {color: black;}#sk-container-id-6 div.sk-estimator:hover label.sk-toggleable__label-arrow:before {color: black;}#sk-container-id-6 div.sk-toggleable__content {max-height: 0;max-width: 0;overflow: hidden;text-align: left;background-color: #f0f8ff;}#sk-container-id-6 div.sk-toggleable__content pre {margin: 0.2em;color: black;border-radius: 0.25em;background-color: #f0f8ff;}#sk-container-id-6 input.sk-toggleable__control:checked~div.sk-toggleable__content {max-height: 200px;max-width: 100%;overflow: auto;}#sk-container-id-6 input.sk-toggleable__control:checked~label.sk-toggleable__label-arrow:before {content: \"▾\";}#sk-container-id-6 div.sk-estimator input.sk-toggleable__control:checked~label.sk-toggleable__label {background-color: #d4ebff;}#sk-container-id-6 div.sk-label input.sk-toggleable__control:checked~label.sk-toggleable__label {background-color: #d4ebff;}#sk-container-id-6 input.sk-hidden--visually {border: 0;clip: rect(1px 1px 1px 1px);clip: rect(1px, 1px, 1px, 1px);height: 1px;margin: -1px;overflow: hidden;padding: 0;position: absolute;width: 1px;}#sk-container-id-6 div.sk-estimator {font-family: monospace;background-color: #f0f8ff;border: 1px dotted black;border-radius: 0.25em;box-sizing: border-box;margin-bottom: 0.5em;}#sk-container-id-6 div.sk-estimator:hover {background-color: #d4ebff;}#sk-container-id-6 div.sk-parallel-item::after {content: \"\";width: 100%;border-bottom: 1px solid gray;flex-grow: 1;}#sk-container-id-6 div.sk-label:hover label.sk-toggleable__label {background-color: #d4ebff;}#sk-container-id-6 div.sk-serial::before {content: \"\";position: absolute;border-left: 1px solid gray;box-sizing: border-box;top: 0;bottom: 0;left: 50%;z-index: 0;}#sk-container-id-6 div.sk-serial {display: flex;flex-direction: column;align-items: center;background-color: white;padding-right: 0.2em;padding-left: 0.2em;position: relative;}#sk-container-id-6 div.sk-item {position: relative;z-index: 1;}#sk-container-id-6 div.sk-parallel {display: flex;align-items: stretch;justify-content: center;background-color: white;position: relative;}#sk-container-id-6 div.sk-item::before, #sk-container-id-6 div.sk-parallel-item::before {content: \"\";position: absolute;border-left: 1px solid gray;box-sizing: border-box;top: 0;bottom: 0;left: 50%;z-index: -1;}#sk-container-id-6 div.sk-parallel-item {display: flex;flex-direction: column;z-index: 1;position: relative;background-color: white;}#sk-container-id-6 div.sk-parallel-item:first-child::after {align-self: flex-end;width: 50%;}#sk-container-id-6 div.sk-parallel-item:last-child::after {align-self: flex-start;width: 50%;}#sk-container-id-6 div.sk-parallel-item:only-child::after {width: 0;}#sk-container-id-6 div.sk-dashed-wrapped {border: 1px dashed gray;margin: 0 0.4em 0.5em 0.4em;box-sizing: border-box;padding-bottom: 0.4em;background-color: white;}#sk-container-id-6 div.sk-label label {font-family: monospace;font-weight: bold;display: inline-block;line-height: 1.2em;}#sk-container-id-6 div.sk-label-container {text-align: center;}#sk-container-id-6 div.sk-container {/* jupyter's `normalize.less` sets `[hidden] { display: none; }` but bootstrap.min.css set `[hidden] { display: none !important; }` so we also need the `!important` here to be able to override the default hidden behavior on the sphinx rendered scikit-learn.org. See: https://github.com/scikit-learn/scikit-learn/issues/21755 */display: inline-block !important;position: relative;}#sk-container-id-6 div.sk-text-repr-fallback {display: none;}</style><div id=\"sk-container-id-6\" class=\"sk-top-container\"><div class=\"sk-text-repr-fallback\"><pre>PCA(n_components=2)</pre><b>In a Jupyter environment, please rerun this cell to show the HTML representation or trust the notebook. <br />On GitHub, the HTML representation is unable to render, please try loading this page with nbviewer.org.</b></div><div class=\"sk-container\" hidden><div class=\"sk-item\"><div class=\"sk-estimator sk-toggleable\"><input class=\"sk-toggleable__control sk-hidden--visually\" id=\"sk-estimator-id-6\" type=\"checkbox\" checked><label for=\"sk-estimator-id-6\" class=\"sk-toggleable__label sk-toggleable__label-arrow\">PCA</label><div class=\"sk-toggleable__content\"><pre>PCA(n_components=2)</pre></div></div></div></div></div>"
      ],
      "text/plain": [
       "PCA(n_components=2)"
      ]
     },
     "execution_count": 56,
     "metadata": {},
     "output_type": "execute_result"
    }
   ],
   "source": [
    "pca_kmeans = PCA(n_components=2)\n",
    "\n",
    "pca_kmeans.fit(df_centered)"
   ]
  },
  {
   "cell_type": "code",
   "execution_count": 57,
   "id": "a7fc8129",
   "metadata": {},
   "outputs": [
    {
     "data": {
      "text/plain": [
       "array([0.81844937, 0.09778153])"
      ]
     },
     "execution_count": 57,
     "metadata": {},
     "output_type": "execute_result"
    }
   ],
   "source": [
    "pca_kmeans.explained_variance_ratio_"
   ]
  },
  {
   "cell_type": "code",
   "execution_count": 58,
   "id": "799e1d40",
   "metadata": {},
   "outputs": [
    {
     "data": {
      "text/plain": [
       "array([[ 0.34433892,  0.34662586,  0.32733313, -0.00417335,  0.45552196,\n",
       "         0.46095972,  0.48354746,  0.01773586],\n",
       "       [ 0.45069884,  0.44923506,  0.47433583,  0.096715  , -0.33260806,\n",
       "        -0.31949261, -0.35110809,  0.15725648]])"
      ]
     },
     "execution_count": 58,
     "metadata": {},
     "output_type": "execute_result"
    }
   ],
   "source": [
    "pca_kmeans.components_"
   ]
  },
  {
   "cell_type": "code",
   "execution_count": 59,
   "id": "39eeff66",
   "metadata": {},
   "outputs": [
    {
     "data": {
      "text/html": [
       "<div>\n",
       "<style scoped>\n",
       "    .dataframe tbody tr th:only-of-type {\n",
       "        vertical-align: middle;\n",
       "    }\n",
       "\n",
       "    .dataframe tbody tr th {\n",
       "        vertical-align: top;\n",
       "    }\n",
       "\n",
       "    .dataframe thead th {\n",
       "        text-align: right;\n",
       "    }\n",
       "</style>\n",
       "<table border=\"1\" class=\"dataframe\">\n",
       "  <thead>\n",
       "    <tr style=\"text-align: right;\">\n",
       "      <th></th>\n",
       "      <th>pc1</th>\n",
       "      <th>pc2</th>\n",
       "    </tr>\n",
       "  </thead>\n",
       "  <tbody>\n",
       "    <tr>\n",
       "      <th>0</th>\n",
       "      <td>-39.221331</td>\n",
       "      <td>18.961672</td>\n",
       "    </tr>\n",
       "    <tr>\n",
       "      <th>1</th>\n",
       "      <td>30.547249</td>\n",
       "      <td>2.935450</td>\n",
       "    </tr>\n",
       "    <tr>\n",
       "      <th>2</th>\n",
       "      <td>13.219471</td>\n",
       "      <td>-9.100237</td>\n",
       "    </tr>\n",
       "    <tr>\n",
       "      <th>3</th>\n",
       "      <td>24.467554</td>\n",
       "      <td>-11.418090</td>\n",
       "    </tr>\n",
       "    <tr>\n",
       "      <th>4</th>\n",
       "      <td>27.082869</td>\n",
       "      <td>-9.821059</td>\n",
       "    </tr>\n",
       "    <tr>\n",
       "      <th>...</th>\n",
       "      <td>...</td>\n",
       "      <td>...</td>\n",
       "    </tr>\n",
       "    <tr>\n",
       "      <th>95</th>\n",
       "      <td>63.675338</td>\n",
       "      <td>21.111107</td>\n",
       "    </tr>\n",
       "    <tr>\n",
       "      <th>96</th>\n",
       "      <td>-32.313890</td>\n",
       "      <td>5.453383</td>\n",
       "    </tr>\n",
       "    <tr>\n",
       "      <th>97</th>\n",
       "      <td>-46.598534</td>\n",
       "      <td>-9.315532</td>\n",
       "    </tr>\n",
       "    <tr>\n",
       "      <th>98</th>\n",
       "      <td>-30.982464</td>\n",
       "      <td>3.862003</td>\n",
       "    </tr>\n",
       "    <tr>\n",
       "      <th>99</th>\n",
       "      <td>20.339186</td>\n",
       "      <td>-17.397370</td>\n",
       "    </tr>\n",
       "  </tbody>\n",
       "</table>\n",
       "<p>100 rows × 2 columns</p>\n",
       "</div>"
      ],
      "text/plain": [
       "          pc1        pc2\n",
       "0  -39.221331  18.961672\n",
       "1   30.547249   2.935450\n",
       "2   13.219471  -9.100237\n",
       "3   24.467554 -11.418090\n",
       "4   27.082869  -9.821059\n",
       "..        ...        ...\n",
       "95  63.675338  21.111107\n",
       "96 -32.313890   5.453383\n",
       "97 -46.598534  -9.315532\n",
       "98 -30.982464   3.862003\n",
       "99  20.339186 -17.397370\n",
       "\n",
       "[100 rows x 2 columns]"
      ]
     },
     "execution_count": 59,
     "metadata": {},
     "output_type": "execute_result"
    }
   ],
   "source": [
    "pca_df = pd.DataFrame(pca_kmeans.transform(df_centered), columns=[\"pc1\",\"pc2\"])\n",
    "\n",
    "pca_df"
   ]
  },
  {
   "cell_type": "code",
   "execution_count": 60,
   "id": "051c72e8",
   "metadata": {},
   "outputs": [
    {
     "data": {
      "image/png": "[encoded data removed]",
      "text/plain": [
       "<Figure size 640x480 with 1 Axes>"
      ]
     },
     "metadata": {},
     "output_type": "display_data"
    }
   ],
   "source": [
    "sns.scatterplot(x=\"pc1\", y=\"pc2\", data=pca_df, hue=kmeans_labels2)\n",
    "\n",
    "plt.xlabel(\"Overall Better Grades -->\")\n",
    "plt.ylabel(\" <--Better in humanities     Better in STEM-->\")\n",
    "\n",
    "plt.show()"
   ]
  },
  {
   "cell_type": "markdown",
   "id": "b1a77530",
   "metadata": {},
   "source": [
    "# T-SNE with Colors"
   ]
  },
  {
   "cell_type": "code",
   "execution_count": 61,
   "id": "7ee88872",
   "metadata": {},
   "outputs": [
    {
     "name": "stderr",
     "output_type": "stream",
     "text": [
      "C:\\Users\\yogesh\\anaconda3\\lib\\site-packages\\sklearn\\cluster\\_kmeans.py:1382: UserWarning: KMeans is known to have a memory leak on Windows with MKL, when there are less chunks than available threads. You can avoid it by setting the environment variable OMP_NUM_THREADS=1.\n",
      "  warnings.warn(\n"
     ]
    },
    {
     "data": {
      "text/plain": [
       "array([0, 2, 2, 2, 2, 0, 2, 0, 0, 1, 0, 2, 2, 2, 2, 0, 2, 2, 2, 0, 2, 2,\n",
       "       0, 2, 2, 0, 0, 0, 2, 0, 2, 0, 0, 0, 0, 0, 1, 2, 0, 1, 0, 0, 0, 0,\n",
       "       2, 0, 0, 2, 0, 2, 2, 0, 2, 0, 2, 0, 0, 2, 0, 0, 1, 0, 0, 2, 0, 1,\n",
       "       2, 0, 0, 2, 2, 2, 2, 0, 2, 0, 0, 2, 0, 1, 0, 0, 2, 2, 2, 2, 2, 0,\n",
       "       2, 1, 0, 2, 1, 2, 2, 1, 0, 0, 0, 2])"
      ]
     },
     "execution_count": 61,
     "metadata": {},
     "output_type": "execute_result"
    }
   ],
   "source": [
    "# 1. Fit a KMeans model with 3 clusters\n",
    "kmeans = KMeans(n_clusters=3, n_init='auto', random_state=42)\n",
    "\n",
    "kmeans.fit(data)\n",
    "\n",
    "kmeans_labels = kmeans.labels_\n",
    "kmeans_labels"
   ]
  },
  {
   "cell_type": "code",
   "execution_count": 62,
   "id": "6e77c8f2",
   "metadata": {},
   "outputs": [
    {
     "data": {
      "text/html": [
       "<div>\n",
       "<style scoped>\n",
       "    .dataframe tbody tr th:only-of-type {\n",
       "        vertical-align: middle;\n",
       "    }\n",
       "\n",
       "    .dataframe tbody tr th {\n",
       "        vertical-align: top;\n",
       "    }\n",
       "\n",
       "    .dataframe thead th {\n",
       "        text-align: right;\n",
       "    }\n",
       "</style>\n",
       "<table border=\"1\" class=\"dataframe\">\n",
       "  <thead>\n",
       "    <tr style=\"text-align: right;\">\n",
       "      <th></th>\n",
       "      <th>math</th>\n",
       "      <th>science</th>\n",
       "      <th>cs</th>\n",
       "      <th>band</th>\n",
       "      <th>english</th>\n",
       "      <th>history</th>\n",
       "      <th>spanish</th>\n",
       "      <th>physed</th>\n",
       "    </tr>\n",
       "  </thead>\n",
       "  <tbody>\n",
       "    <tr>\n",
       "      <th>0</th>\n",
       "      <td>42.702128</td>\n",
       "      <td>42.765957</td>\n",
       "      <td>43.042553</td>\n",
       "      <td>69.765957</td>\n",
       "      <td>45.765957</td>\n",
       "      <td>47.957447</td>\n",
       "      <td>49.234043</td>\n",
       "      <td>66.574468</td>\n",
       "    </tr>\n",
       "    <tr>\n",
       "      <th>1</th>\n",
       "      <td>87.222222</td>\n",
       "      <td>85.444444</td>\n",
       "      <td>85.666667</td>\n",
       "      <td>68.333333</td>\n",
       "      <td>87.000000</td>\n",
       "      <td>90.555556</td>\n",
       "      <td>94.000000</td>\n",
       "      <td>68.555556</td>\n",
       "    </tr>\n",
       "    <tr>\n",
       "      <th>2</th>\n",
       "      <td>57.113636</td>\n",
       "      <td>57.795455</td>\n",
       "      <td>56.386364</td>\n",
       "      <td>70.681818</td>\n",
       "      <td>71.886364</td>\n",
       "      <td>74.795455</td>\n",
       "      <td>77.181818</td>\n",
       "      <td>68.522727</td>\n",
       "    </tr>\n",
       "  </tbody>\n",
       "</table>\n",
       "</div>"
      ],
      "text/plain": [
       "        math    science         cs       band    english    history  \\\n",
       "0  42.702128  42.765957  43.042553  69.765957  45.765957  47.957447   \n",
       "1  87.222222  85.444444  85.666667  68.333333  87.000000  90.555556   \n",
       "2  57.113636  57.795455  56.386364  70.681818  71.886364  74.795455   \n",
       "\n",
       "     spanish     physed  \n",
       "0  49.234043  66.574468  \n",
       "1  94.000000  68.555556  \n",
       "2  77.181818  68.522727  "
      ]
     },
     "execution_count": 62,
     "metadata": {},
     "output_type": "execute_result"
    }
   ],
   "source": [
    "pd.DataFrame(kmeans.cluster_centers_, columns=data.columns)"
   ]
  },
  {
   "cell_type": "code",
   "execution_count": 64,
   "id": "62313405",
   "metadata": {},
   "outputs": [
    {
     "data": {
      "image/png": "[encoded data removed]",
      "text/plain": [
       "<Figure size 1000x200 with 2 Axes>"
      ]
     },
     "metadata": {},
     "output_type": "display_data"
    }
   ],
   "source": [
    "plt.figure(figsize=(10, 2))\n",
    "sns.heatmap(pd.DataFrame(kmeans.cluster_centers_, columns=data.columns),\n",
    "           annot=True);"
   ]
  },
  {
   "cell_type": "markdown",
   "id": "652772fb",
   "metadata": {},
   "source": [
    "* **Cluster 0**: Lower marks in both STEM and Humanities subjects \n",
    "* **Cluster 1**: Higher marks in both STEM and Humanities subjects\n",
    "* **Cluster 2**: Average marks in both STEM and Humanities subjects"
   ]
  },
  {
   "cell_type": "code",
   "execution_count": 65,
   "id": "fa84f881",
   "metadata": {},
   "outputs": [
    {
     "data": {
      "text/plain": [
       "0    47\n",
       "2    44\n",
       "1     9\n",
       "dtype: int64"
      ]
     },
     "execution_count": 65,
     "metadata": {},
     "output_type": "execute_result"
    }
   ],
   "source": [
    "pd.Series(kmeans.labels_).value_counts()"
   ]
  },
  {
   "cell_type": "code",
   "execution_count": 74,
   "id": "08b635d1",
   "metadata": {},
   "outputs": [
    {
     "data": {
      "text/html": [
       "<div>\n",
       "<style scoped>\n",
       "    .dataframe tbody tr th:only-of-type {\n",
       "        vertical-align: middle;\n",
       "    }\n",
       "\n",
       "    .dataframe tbody tr th {\n",
       "        vertical-align: top;\n",
       "    }\n",
       "\n",
       "    .dataframe thead th {\n",
       "        text-align: right;\n",
       "    }\n",
       "</style>\n",
       "<table border=\"1\" class=\"dataframe\">\n",
       "  <thead>\n",
       "    <tr style=\"text-align: right;\">\n",
       "      <th></th>\n",
       "      <th>component1</th>\n",
       "      <th>component2</th>\n",
       "    </tr>\n",
       "  </thead>\n",
       "  <tbody>\n",
       "    <tr>\n",
       "      <th>0</th>\n",
       "      <td>-1.573459</td>\n",
       "      <td>6.103770</td>\n",
       "    </tr>\n",
       "    <tr>\n",
       "      <th>1</th>\n",
       "      <td>3.427893</td>\n",
       "      <td>-4.404862</td>\n",
       "    </tr>\n",
       "    <tr>\n",
       "      <th>2</th>\n",
       "      <td>0.725429</td>\n",
       "      <td>-2.935712</td>\n",
       "    </tr>\n",
       "    <tr>\n",
       "      <th>3</th>\n",
       "      <td>0.421236</td>\n",
       "      <td>-4.612420</td>\n",
       "    </tr>\n",
       "    <tr>\n",
       "      <th>4</th>\n",
       "      <td>2.910705</td>\n",
       "      <td>-3.945916</td>\n",
       "    </tr>\n",
       "    <tr>\n",
       "      <th>...</th>\n",
       "      <td>...</td>\n",
       "      <td>...</td>\n",
       "    </tr>\n",
       "    <tr>\n",
       "      <th>95</th>\n",
       "      <td>3.815415</td>\n",
       "      <td>-7.112720</td>\n",
       "    </tr>\n",
       "    <tr>\n",
       "      <th>96</th>\n",
       "      <td>-1.566544</td>\n",
       "      <td>4.860415</td>\n",
       "    </tr>\n",
       "    <tr>\n",
       "      <th>97</th>\n",
       "      <td>-3.445656</td>\n",
       "      <td>5.013393</td>\n",
       "    </tr>\n",
       "    <tr>\n",
       "      <th>98</th>\n",
       "      <td>-1.776304</td>\n",
       "      <td>4.544430</td>\n",
       "    </tr>\n",
       "    <tr>\n",
       "      <th>99</th>\n",
       "      <td>2.366072</td>\n",
       "      <td>-3.207669</td>\n",
       "    </tr>\n",
       "  </tbody>\n",
       "</table>\n",
       "<p>100 rows × 2 columns</p>\n",
       "</div>"
      ],
      "text/plain": [
       "    component1  component2\n",
       "0    -1.573459    6.103770\n",
       "1     3.427893   -4.404862\n",
       "2     0.725429   -2.935712\n",
       "3     0.421236   -4.612420\n",
       "4     2.910705   -3.945916\n",
       "..         ...         ...\n",
       "95    3.815415   -7.112720\n",
       "96   -1.566544    4.860415\n",
       "97   -3.445656    5.013393\n",
       "98   -1.776304    4.544430\n",
       "99    2.366072   -3.207669\n",
       "\n",
       "[100 rows x 2 columns]"
      ]
     },
     "execution_count": 74,
     "metadata": {},
     "output_type": "execute_result"
    }
   ],
   "source": [
    "# 2. Overlay the 3 clusters onto a T-SNE plot\n",
    "\n",
    "tsen = TSNE(n_components=2, random_state=42)\n",
    "\n",
    "df_tsne = tsen.fit_transform(data)\n",
    "\n",
    "data_tsne = pd.DataFrame(df_tsne, columns=[\"component1\", \"component2\"])\n",
    "\n",
    "data_tsne"
   ]
  },
  {
   "cell_type": "code",
   "execution_count": 75,
   "id": "3a8792ce",
   "metadata": {},
   "outputs": [
    {
     "data": {
      "image/png": "[encoded data removed]",
      "text/plain": [
       "<Figure size 640x480 with 1 Axes>"
      ]
     },
     "metadata": {},
     "output_type": "display_data"
    }
   ],
   "source": [
    "sns.scatterplot(x=\"component1\", y=\"component2\", data = data_tsne, hue=kmeans_labels, palette='viridis')\n",
    "\n",
    "\n",
    "plt.show()"
   ]
  },
  {
   "cell_type": "code",
   "execution_count": null,
   "id": "da0949df-b4a3-43db-8754-c23d77233769",
   "metadata": {},
   "outputs": [],
   "source": []
  }
 ],
 "metadata": {
  "kernelspec": {
   "display_name": "Python 3 (ipykernel)",
   "language": "python",
   "name": "python3"
  },
  "language_info": {
   "codemirror_mode": {
    "name": "ipython",
    "version": 3
   },
   "file_extension": ".py",
   "mimetype": "text/x-python",
   "name": "python",
   "nbconvert_exporter": "python",
   "pygments_lexer": "ipython3",
   "version": "3.10.9"
  }
 },
 "nbformat": 4,
 "nbformat_minor": 5
}
