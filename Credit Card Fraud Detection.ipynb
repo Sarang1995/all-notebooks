{
 "cells": [
  {
   "cell_type": "markdown",
   "id": "22a582a3",
   "metadata": {},
   "source": [
    "# Credit Card Fraud Detection"
   ]
  },
  {
   "cell_type": "markdown",
   "id": "d301e225",
   "metadata": {},
   "source": [
    "**Objective**:\n",
    "The goal of this project is to build a machine learning model that detects fraudulent credit card transactions. By analyzing transaction patterns, the model classifies transactions as either **fraudulent (1)** or **legitimate (0)** to enhance financial security and prevent fraud losses.\n",
    "\n",
    "Since fraud detection is a high-risk problem where **False Negatives** (missed fraud cases) can lead to severe financial loss, the focus is on maximizing the **recall score** to correctly identify fraudulent transactions."
   ]
  },
  {
   "cell_type": "code",
   "execution_count": 1,
   "id": "9b5d1c97",
   "metadata": {},
   "outputs": [],
   "source": [
    "import numpy as np\n",
    "import pandas as pd\n",
    "import matplotlib.pyplot as plt\n",
    "import seaborn as sns\n",
    "\n",
    "from scipy.stats import f_oneway\n",
    "\n",
    "from sklearn.preprocessing import StandardScaler\n",
    "from sklearn.model_selection import train_test_split,cross_val_score\n",
    "\n",
    "from sklearn.linear_model import LogisticRegression\n",
    "from sklearn.ensemble import RandomForestClassifier, GradientBoostingClassifier, AdaBoostClassifier, IsolationForest\n",
    "from sklearn.neighbors import KNeighborsClassifier\n",
    "from xgboost import XGBClassifier\n",
    "\n",
    "from sklearn.cluster import KMeans\n",
    "\n",
    "from sklearn.metrics import accuracy_score, precision_score, recall_score, f1_score, confusion_matrix, precision_recall_curve\n",
    "\n",
    "import imblearn.over_sampling as os\n",
    "import imblearn.under_sampling as us\n",
    "\n",
    "import optuna\n"
   ]
  },
  {
   "cell_type": "code",
   "execution_count": 2,
   "id": "3c28c220",
   "metadata": {},
   "outputs": [],
   "source": [
    "pd.set_option('display.max_columns', None)\n",
    "plt.rcParams['figure.figsize']=[7,3]"
   ]
  },
  {
   "cell_type": "code",
   "execution_count": 3,
   "id": "99a6b348",
   "metadata": {},
   "outputs": [
    {
     "data": {
      "text/html": [
       "<div>\n",
       "<style scoped>\n",
       "    .dataframe tbody tr th:only-of-type {\n",
       "        vertical-align: middle;\n",
       "    }\n",
       "\n",
       "    .dataframe tbody tr th {\n",
       "        vertical-align: top;\n",
       "    }\n",
       "\n",
       "    .dataframe thead th {\n",
       "        text-align: right;\n",
       "    }\n",
       "</style>\n",
       "<table border=\"1\" class=\"dataframe\">\n",
       "  <thead>\n",
       "    <tr style=\"text-align: right;\">\n",
       "      <th></th>\n",
       "      <th>Time</th>\n",
       "      <th>V1</th>\n",
       "      <th>V2</th>\n",
       "      <th>V3</th>\n",
       "      <th>V4</th>\n",
       "      <th>V5</th>\n",
       "      <th>V6</th>\n",
       "      <th>V7</th>\n",
       "      <th>V8</th>\n",
       "      <th>V9</th>\n",
       "      <th>V10</th>\n",
       "      <th>V11</th>\n",
       "      <th>V12</th>\n",
       "      <th>V13</th>\n",
       "      <th>V14</th>\n",
       "      <th>V15</th>\n",
       "      <th>V16</th>\n",
       "      <th>V17</th>\n",
       "      <th>V18</th>\n",
       "      <th>V19</th>\n",
       "      <th>V20</th>\n",
       "      <th>V21</th>\n",
       "      <th>V22</th>\n",
       "      <th>V23</th>\n",
       "      <th>V24</th>\n",
       "      <th>V25</th>\n",
       "      <th>V26</th>\n",
       "      <th>V27</th>\n",
       "      <th>V28</th>\n",
       "      <th>Amount</th>\n",
       "      <th>Class</th>\n",
       "    </tr>\n",
       "  </thead>\n",
       "  <tbody>\n",
       "    <tr>\n",
       "      <th>0</th>\n",
       "      <td>0.0</td>\n",
       "      <td>-1.359807</td>\n",
       "      <td>-0.072781</td>\n",
       "      <td>2.536347</td>\n",
       "      <td>1.378155</td>\n",
       "      <td>-0.338321</td>\n",
       "      <td>0.462388</td>\n",
       "      <td>0.239599</td>\n",
       "      <td>0.098698</td>\n",
       "      <td>0.363787</td>\n",
       "      <td>0.090794</td>\n",
       "      <td>-0.551600</td>\n",
       "      <td>-0.617801</td>\n",
       "      <td>-0.991390</td>\n",
       "      <td>-0.311169</td>\n",
       "      <td>1.468177</td>\n",
       "      <td>-0.470401</td>\n",
       "      <td>0.207971</td>\n",
       "      <td>0.025791</td>\n",
       "      <td>0.403993</td>\n",
       "      <td>0.251412</td>\n",
       "      <td>-0.018307</td>\n",
       "      <td>0.277838</td>\n",
       "      <td>-0.110474</td>\n",
       "      <td>0.066928</td>\n",
       "      <td>0.128539</td>\n",
       "      <td>-0.189115</td>\n",
       "      <td>0.133558</td>\n",
       "      <td>-0.021053</td>\n",
       "      <td>149.62</td>\n",
       "      <td>0</td>\n",
       "    </tr>\n",
       "    <tr>\n",
       "      <th>1</th>\n",
       "      <td>0.0</td>\n",
       "      <td>1.191857</td>\n",
       "      <td>0.266151</td>\n",
       "      <td>0.166480</td>\n",
       "      <td>0.448154</td>\n",
       "      <td>0.060018</td>\n",
       "      <td>-0.082361</td>\n",
       "      <td>-0.078803</td>\n",
       "      <td>0.085102</td>\n",
       "      <td>-0.255425</td>\n",
       "      <td>-0.166974</td>\n",
       "      <td>1.612727</td>\n",
       "      <td>1.065235</td>\n",
       "      <td>0.489095</td>\n",
       "      <td>-0.143772</td>\n",
       "      <td>0.635558</td>\n",
       "      <td>0.463917</td>\n",
       "      <td>-0.114805</td>\n",
       "      <td>-0.183361</td>\n",
       "      <td>-0.145783</td>\n",
       "      <td>-0.069083</td>\n",
       "      <td>-0.225775</td>\n",
       "      <td>-0.638672</td>\n",
       "      <td>0.101288</td>\n",
       "      <td>-0.339846</td>\n",
       "      <td>0.167170</td>\n",
       "      <td>0.125895</td>\n",
       "      <td>-0.008983</td>\n",
       "      <td>0.014724</td>\n",
       "      <td>2.69</td>\n",
       "      <td>0</td>\n",
       "    </tr>\n",
       "    <tr>\n",
       "      <th>2</th>\n",
       "      <td>1.0</td>\n",
       "      <td>-1.358354</td>\n",
       "      <td>-1.340163</td>\n",
       "      <td>1.773209</td>\n",
       "      <td>0.379780</td>\n",
       "      <td>-0.503198</td>\n",
       "      <td>1.800499</td>\n",
       "      <td>0.791461</td>\n",
       "      <td>0.247676</td>\n",
       "      <td>-1.514654</td>\n",
       "      <td>0.207643</td>\n",
       "      <td>0.624501</td>\n",
       "      <td>0.066084</td>\n",
       "      <td>0.717293</td>\n",
       "      <td>-0.165946</td>\n",
       "      <td>2.345865</td>\n",
       "      <td>-2.890083</td>\n",
       "      <td>1.109969</td>\n",
       "      <td>-0.121359</td>\n",
       "      <td>-2.261857</td>\n",
       "      <td>0.524980</td>\n",
       "      <td>0.247998</td>\n",
       "      <td>0.771679</td>\n",
       "      <td>0.909412</td>\n",
       "      <td>-0.689281</td>\n",
       "      <td>-0.327642</td>\n",
       "      <td>-0.139097</td>\n",
       "      <td>-0.055353</td>\n",
       "      <td>-0.059752</td>\n",
       "      <td>378.66</td>\n",
       "      <td>0</td>\n",
       "    </tr>\n",
       "    <tr>\n",
       "      <th>3</th>\n",
       "      <td>1.0</td>\n",
       "      <td>-0.966272</td>\n",
       "      <td>-0.185226</td>\n",
       "      <td>1.792993</td>\n",
       "      <td>-0.863291</td>\n",
       "      <td>-0.010309</td>\n",
       "      <td>1.247203</td>\n",
       "      <td>0.237609</td>\n",
       "      <td>0.377436</td>\n",
       "      <td>-1.387024</td>\n",
       "      <td>-0.054952</td>\n",
       "      <td>-0.226487</td>\n",
       "      <td>0.178228</td>\n",
       "      <td>0.507757</td>\n",
       "      <td>-0.287924</td>\n",
       "      <td>-0.631418</td>\n",
       "      <td>-1.059647</td>\n",
       "      <td>-0.684093</td>\n",
       "      <td>1.965775</td>\n",
       "      <td>-1.232622</td>\n",
       "      <td>-0.208038</td>\n",
       "      <td>-0.108300</td>\n",
       "      <td>0.005274</td>\n",
       "      <td>-0.190321</td>\n",
       "      <td>-1.175575</td>\n",
       "      <td>0.647376</td>\n",
       "      <td>-0.221929</td>\n",
       "      <td>0.062723</td>\n",
       "      <td>0.061458</td>\n",
       "      <td>123.50</td>\n",
       "      <td>0</td>\n",
       "    </tr>\n",
       "    <tr>\n",
       "      <th>4</th>\n",
       "      <td>2.0</td>\n",
       "      <td>-1.158233</td>\n",
       "      <td>0.877737</td>\n",
       "      <td>1.548718</td>\n",
       "      <td>0.403034</td>\n",
       "      <td>-0.407193</td>\n",
       "      <td>0.095921</td>\n",
       "      <td>0.592941</td>\n",
       "      <td>-0.270533</td>\n",
       "      <td>0.817739</td>\n",
       "      <td>0.753074</td>\n",
       "      <td>-0.822843</td>\n",
       "      <td>0.538196</td>\n",
       "      <td>1.345852</td>\n",
       "      <td>-1.119670</td>\n",
       "      <td>0.175121</td>\n",
       "      <td>-0.451449</td>\n",
       "      <td>-0.237033</td>\n",
       "      <td>-0.038195</td>\n",
       "      <td>0.803487</td>\n",
       "      <td>0.408542</td>\n",
       "      <td>-0.009431</td>\n",
       "      <td>0.798278</td>\n",
       "      <td>-0.137458</td>\n",
       "      <td>0.141267</td>\n",
       "      <td>-0.206010</td>\n",
       "      <td>0.502292</td>\n",
       "      <td>0.219422</td>\n",
       "      <td>0.215153</td>\n",
       "      <td>69.99</td>\n",
       "      <td>0</td>\n",
       "    </tr>\n",
       "  </tbody>\n",
       "</table>\n",
       "</div>"
      ],
      "text/plain": [
       "   Time        V1        V2        V3        V4        V5        V6        V7  \\\n",
       "0   0.0 -1.359807 -0.072781  2.536347  1.378155 -0.338321  0.462388  0.239599   \n",
       "1   0.0  1.191857  0.266151  0.166480  0.448154  0.060018 -0.082361 -0.078803   \n",
       "2   1.0 -1.358354 -1.340163  1.773209  0.379780 -0.503198  1.800499  0.791461   \n",
       "3   1.0 -0.966272 -0.185226  1.792993 -0.863291 -0.010309  1.247203  0.237609   \n",
       "4   2.0 -1.158233  0.877737  1.548718  0.403034 -0.407193  0.095921  0.592941   \n",
       "\n",
       "         V8        V9       V10       V11       V12       V13       V14  \\\n",
       "0  0.098698  0.363787  0.090794 -0.551600 -0.617801 -0.991390 -0.311169   \n",
       "1  0.085102 -0.255425 -0.166974  1.612727  1.065235  0.489095 -0.143772   \n",
       "2  0.247676 -1.514654  0.207643  0.624501  0.066084  0.717293 -0.165946   \n",
       "3  0.377436 -1.387024 -0.054952 -0.226487  0.178228  0.507757 -0.287924   \n",
       "4 -0.270533  0.817739  0.753074 -0.822843  0.538196  1.345852 -1.119670   \n",
       "\n",
       "        V15       V16       V17       V18       V19       V20       V21  \\\n",
       "0  1.468177 -0.470401  0.207971  0.025791  0.403993  0.251412 -0.018307   \n",
       "1  0.635558  0.463917 -0.114805 -0.183361 -0.145783 -0.069083 -0.225775   \n",
       "2  2.345865 -2.890083  1.109969 -0.121359 -2.261857  0.524980  0.247998   \n",
       "3 -0.631418 -1.059647 -0.684093  1.965775 -1.232622 -0.208038 -0.108300   \n",
       "4  0.175121 -0.451449 -0.237033 -0.038195  0.803487  0.408542 -0.009431   \n",
       "\n",
       "        V22       V23       V24       V25       V26       V27       V28  \\\n",
       "0  0.277838 -0.110474  0.066928  0.128539 -0.189115  0.133558 -0.021053   \n",
       "1 -0.638672  0.101288 -0.339846  0.167170  0.125895 -0.008983  0.014724   \n",
       "2  0.771679  0.909412 -0.689281 -0.327642 -0.139097 -0.055353 -0.059752   \n",
       "3  0.005274 -0.190321 -1.175575  0.647376 -0.221929  0.062723  0.061458   \n",
       "4  0.798278 -0.137458  0.141267 -0.206010  0.502292  0.219422  0.215153   \n",
       "\n",
       "   Amount  Class  \n",
       "0  149.62      0  \n",
       "1    2.69      0  \n",
       "2  378.66      0  \n",
       "3  123.50      0  \n",
       "4   69.99      0  "
      ]
     },
     "execution_count": 3,
     "metadata": {},
     "output_type": "execute_result"
    }
   ],
   "source": [
    "df = pd.read_csv('G:/Study material/Data Science/Projects/Credit Card fraud detection/creditcard.csv')\n",
    "\n",
    "df.head()"
   ]
  },
  {
   "cell_type": "code",
   "execution_count": 4,
   "id": "f1c9b9a8",
   "metadata": {},
   "outputs": [
    {
     "data": {
      "text/plain": [
       "(284807, 31)"
      ]
     },
     "execution_count": 4,
     "metadata": {},
     "output_type": "execute_result"
    }
   ],
   "source": [
    "df.shape"
   ]
  },
  {
   "cell_type": "markdown",
   "id": "1dd63fd3",
   "metadata": {},
   "source": [
    "* Data contains 284807 records and 31 coulumns including target column.\n",
    "* Our goal is to identify the fraud transactions.\n",
    "\n",
    "## Problem Statement\n",
    "\n",
    "Create a predictive model which can identify the fraud transactions.\n",
    "\n",
    "<b>Traget Variable</b>: Class\n",
    "    \n",
    "## Type of machine learning\n",
    "\n",
    "Looking at the problem statement and data, we can use supervised classification models to identify fraud transactions.\n",
    "\n",
    "## Basic data exploration\n",
    "\n",
    "* Check the datatypes of features\n",
    "* Identify which features are quantitative, categorical and qualitative\n",
    "* Remove useless features"
   ]
  },
  {
   "cell_type": "markdown",
   "id": "20034db9",
   "metadata": {},
   "source": [
    "## Datatypes"
   ]
  },
  {
   "cell_type": "code",
   "execution_count": 5,
   "id": "89dc7238",
   "metadata": {},
   "outputs": [
    {
     "name": "stdout",
     "output_type": "stream",
     "text": [
      "<class 'pandas.core.frame.DataFrame'>\n",
      "RangeIndex: 284807 entries, 0 to 284806\n",
      "Data columns (total 31 columns):\n",
      " #   Column  Non-Null Count   Dtype  \n",
      "---  ------  --------------   -----  \n",
      " 0   Time    284807 non-null  float64\n",
      " 1   V1      284807 non-null  float64\n",
      " 2   V2      284807 non-null  float64\n",
      " 3   V3      284807 non-null  float64\n",
      " 4   V4      284807 non-null  float64\n",
      " 5   V5      284807 non-null  float64\n",
      " 6   V6      284807 non-null  float64\n",
      " 7   V7      284807 non-null  float64\n",
      " 8   V8      284807 non-null  float64\n",
      " 9   V9      284807 non-null  float64\n",
      " 10  V10     284807 non-null  float64\n",
      " 11  V11     284807 non-null  float64\n",
      " 12  V12     284807 non-null  float64\n",
      " 13  V13     284807 non-null  float64\n",
      " 14  V14     284807 non-null  float64\n",
      " 15  V15     284807 non-null  float64\n",
      " 16  V16     284807 non-null  float64\n",
      " 17  V17     284807 non-null  float64\n",
      " 18  V18     284807 non-null  float64\n",
      " 19  V19     284807 non-null  float64\n",
      " 20  V20     284807 non-null  float64\n",
      " 21  V21     284807 non-null  float64\n",
      " 22  V22     284807 non-null  float64\n",
      " 23  V23     284807 non-null  float64\n",
      " 24  V24     284807 non-null  float64\n",
      " 25  V25     284807 non-null  float64\n",
      " 26  V26     284807 non-null  float64\n",
      " 27  V27     284807 non-null  float64\n",
      " 28  V28     284807 non-null  float64\n",
      " 29  Amount  284807 non-null  float64\n",
      " 30  Class   284807 non-null  int64  \n",
      "dtypes: float64(30), int64(1)\n",
      "memory usage: 67.4 MB\n"
     ]
    }
   ],
   "source": [
    "df.info(memory_usage='deep')"
   ]
  },
  {
   "cell_type": "markdown",
   "id": "c51ed950",
   "metadata": {},
   "source": [
    "## Missing Value Imputations"
   ]
  },
  {
   "cell_type": "code",
   "execution_count": 6,
   "id": "cab63670",
   "metadata": {},
   "outputs": [
    {
     "data": {
      "text/plain": [
       "Time      0\n",
       "V1        0\n",
       "V2        0\n",
       "V3        0\n",
       "V4        0\n",
       "V5        0\n",
       "V6        0\n",
       "V7        0\n",
       "V8        0\n",
       "V9        0\n",
       "V10       0\n",
       "V11       0\n",
       "V12       0\n",
       "V13       0\n",
       "V14       0\n",
       "V15       0\n",
       "V16       0\n",
       "V17       0\n",
       "V18       0\n",
       "V19       0\n",
       "V20       0\n",
       "V21       0\n",
       "V22       0\n",
       "V23       0\n",
       "V24       0\n",
       "V25       0\n",
       "V26       0\n",
       "V27       0\n",
       "V28       0\n",
       "Amount    0\n",
       "Class     0\n",
       "dtype: int64"
      ]
     },
     "execution_count": 6,
     "metadata": {},
     "output_type": "execute_result"
    }
   ],
   "source": [
    "df.isna().sum()"
   ]
  },
  {
   "cell_type": "code",
   "execution_count": 7,
   "id": "34df6011",
   "metadata": {},
   "outputs": [
    {
     "data": {
      "text/html": [
       "<div>\n",
       "<style scoped>\n",
       "    .dataframe tbody tr th:only-of-type {\n",
       "        vertical-align: middle;\n",
       "    }\n",
       "\n",
       "    .dataframe tbody tr th {\n",
       "        vertical-align: top;\n",
       "    }\n",
       "\n",
       "    .dataframe thead th {\n",
       "        text-align: right;\n",
       "    }\n",
       "</style>\n",
       "<table border=\"1\" class=\"dataframe\">\n",
       "  <thead>\n",
       "    <tr style=\"text-align: right;\">\n",
       "      <th></th>\n",
       "      <th>Time</th>\n",
       "      <th>V1</th>\n",
       "      <th>V2</th>\n",
       "      <th>V3</th>\n",
       "      <th>V4</th>\n",
       "      <th>V5</th>\n",
       "      <th>V6</th>\n",
       "      <th>V7</th>\n",
       "      <th>V8</th>\n",
       "      <th>V9</th>\n",
       "      <th>V10</th>\n",
       "      <th>V11</th>\n",
       "      <th>V12</th>\n",
       "      <th>V13</th>\n",
       "      <th>V14</th>\n",
       "      <th>V15</th>\n",
       "      <th>V16</th>\n",
       "      <th>V17</th>\n",
       "      <th>V18</th>\n",
       "      <th>V19</th>\n",
       "      <th>V20</th>\n",
       "      <th>V21</th>\n",
       "      <th>V22</th>\n",
       "      <th>V23</th>\n",
       "      <th>V24</th>\n",
       "      <th>V25</th>\n",
       "      <th>V26</th>\n",
       "      <th>V27</th>\n",
       "      <th>V28</th>\n",
       "      <th>Amount</th>\n",
       "      <th>Class</th>\n",
       "    </tr>\n",
       "  </thead>\n",
       "  <tbody>\n",
       "    <tr>\n",
       "      <th>count</th>\n",
       "      <td>284807.000000</td>\n",
       "      <td>2.848070e+05</td>\n",
       "      <td>2.848070e+05</td>\n",
       "      <td>2.848070e+05</td>\n",
       "      <td>2.848070e+05</td>\n",
       "      <td>2.848070e+05</td>\n",
       "      <td>2.848070e+05</td>\n",
       "      <td>2.848070e+05</td>\n",
       "      <td>2.848070e+05</td>\n",
       "      <td>2.848070e+05</td>\n",
       "      <td>2.848070e+05</td>\n",
       "      <td>2.848070e+05</td>\n",
       "      <td>2.848070e+05</td>\n",
       "      <td>2.848070e+05</td>\n",
       "      <td>2.848070e+05</td>\n",
       "      <td>2.848070e+05</td>\n",
       "      <td>2.848070e+05</td>\n",
       "      <td>2.848070e+05</td>\n",
       "      <td>2.848070e+05</td>\n",
       "      <td>2.848070e+05</td>\n",
       "      <td>2.848070e+05</td>\n",
       "      <td>2.848070e+05</td>\n",
       "      <td>2.848070e+05</td>\n",
       "      <td>2.848070e+05</td>\n",
       "      <td>2.848070e+05</td>\n",
       "      <td>2.848070e+05</td>\n",
       "      <td>2.848070e+05</td>\n",
       "      <td>2.848070e+05</td>\n",
       "      <td>2.848070e+05</td>\n",
       "      <td>284807.000000</td>\n",
       "      <td>284807.000000</td>\n",
       "    </tr>\n",
       "    <tr>\n",
       "      <th>mean</th>\n",
       "      <td>94813.859575</td>\n",
       "      <td>1.168375e-15</td>\n",
       "      <td>3.416908e-16</td>\n",
       "      <td>-1.379537e-15</td>\n",
       "      <td>2.074095e-15</td>\n",
       "      <td>9.604066e-16</td>\n",
       "      <td>1.487313e-15</td>\n",
       "      <td>-5.556467e-16</td>\n",
       "      <td>1.213481e-16</td>\n",
       "      <td>-2.406331e-15</td>\n",
       "      <td>2.239053e-15</td>\n",
       "      <td>1.673327e-15</td>\n",
       "      <td>-1.247012e-15</td>\n",
       "      <td>8.190001e-16</td>\n",
       "      <td>1.207294e-15</td>\n",
       "      <td>4.887456e-15</td>\n",
       "      <td>1.437716e-15</td>\n",
       "      <td>-3.772171e-16</td>\n",
       "      <td>9.564149e-16</td>\n",
       "      <td>1.039917e-15</td>\n",
       "      <td>6.406204e-16</td>\n",
       "      <td>1.654067e-16</td>\n",
       "      <td>-3.568593e-16</td>\n",
       "      <td>2.578648e-16</td>\n",
       "      <td>4.473266e-15</td>\n",
       "      <td>5.340915e-16</td>\n",
       "      <td>1.683437e-15</td>\n",
       "      <td>-3.660091e-16</td>\n",
       "      <td>-1.227390e-16</td>\n",
       "      <td>88.349619</td>\n",
       "      <td>0.001727</td>\n",
       "    </tr>\n",
       "    <tr>\n",
       "      <th>std</th>\n",
       "      <td>47488.145955</td>\n",
       "      <td>1.958696e+00</td>\n",
       "      <td>1.651309e+00</td>\n",
       "      <td>1.516255e+00</td>\n",
       "      <td>1.415869e+00</td>\n",
       "      <td>1.380247e+00</td>\n",
       "      <td>1.332271e+00</td>\n",
       "      <td>1.237094e+00</td>\n",
       "      <td>1.194353e+00</td>\n",
       "      <td>1.098632e+00</td>\n",
       "      <td>1.088850e+00</td>\n",
       "      <td>1.020713e+00</td>\n",
       "      <td>9.992014e-01</td>\n",
       "      <td>9.952742e-01</td>\n",
       "      <td>9.585956e-01</td>\n",
       "      <td>9.153160e-01</td>\n",
       "      <td>8.762529e-01</td>\n",
       "      <td>8.493371e-01</td>\n",
       "      <td>8.381762e-01</td>\n",
       "      <td>8.140405e-01</td>\n",
       "      <td>7.709250e-01</td>\n",
       "      <td>7.345240e-01</td>\n",
       "      <td>7.257016e-01</td>\n",
       "      <td>6.244603e-01</td>\n",
       "      <td>6.056471e-01</td>\n",
       "      <td>5.212781e-01</td>\n",
       "      <td>4.822270e-01</td>\n",
       "      <td>4.036325e-01</td>\n",
       "      <td>3.300833e-01</td>\n",
       "      <td>250.120109</td>\n",
       "      <td>0.041527</td>\n",
       "    </tr>\n",
       "    <tr>\n",
       "      <th>min</th>\n",
       "      <td>0.000000</td>\n",
       "      <td>-5.640751e+01</td>\n",
       "      <td>-7.271573e+01</td>\n",
       "      <td>-4.832559e+01</td>\n",
       "      <td>-5.683171e+00</td>\n",
       "      <td>-1.137433e+02</td>\n",
       "      <td>-2.616051e+01</td>\n",
       "      <td>-4.355724e+01</td>\n",
       "      <td>-7.321672e+01</td>\n",
       "      <td>-1.343407e+01</td>\n",
       "      <td>-2.458826e+01</td>\n",
       "      <td>-4.797473e+00</td>\n",
       "      <td>-1.868371e+01</td>\n",
       "      <td>-5.791881e+00</td>\n",
       "      <td>-1.921433e+01</td>\n",
       "      <td>-4.498945e+00</td>\n",
       "      <td>-1.412985e+01</td>\n",
       "      <td>-2.516280e+01</td>\n",
       "      <td>-9.498746e+00</td>\n",
       "      <td>-7.213527e+00</td>\n",
       "      <td>-5.449772e+01</td>\n",
       "      <td>-3.483038e+01</td>\n",
       "      <td>-1.093314e+01</td>\n",
       "      <td>-4.480774e+01</td>\n",
       "      <td>-2.836627e+00</td>\n",
       "      <td>-1.029540e+01</td>\n",
       "      <td>-2.604551e+00</td>\n",
       "      <td>-2.256568e+01</td>\n",
       "      <td>-1.543008e+01</td>\n",
       "      <td>0.000000</td>\n",
       "      <td>0.000000</td>\n",
       "    </tr>\n",
       "    <tr>\n",
       "      <th>25%</th>\n",
       "      <td>54201.500000</td>\n",
       "      <td>-9.203734e-01</td>\n",
       "      <td>-5.985499e-01</td>\n",
       "      <td>-8.903648e-01</td>\n",
       "      <td>-8.486401e-01</td>\n",
       "      <td>-6.915971e-01</td>\n",
       "      <td>-7.682956e-01</td>\n",
       "      <td>-5.540759e-01</td>\n",
       "      <td>-2.086297e-01</td>\n",
       "      <td>-6.430976e-01</td>\n",
       "      <td>-5.354257e-01</td>\n",
       "      <td>-7.624942e-01</td>\n",
       "      <td>-4.055715e-01</td>\n",
       "      <td>-6.485393e-01</td>\n",
       "      <td>-4.255740e-01</td>\n",
       "      <td>-5.828843e-01</td>\n",
       "      <td>-4.680368e-01</td>\n",
       "      <td>-4.837483e-01</td>\n",
       "      <td>-4.988498e-01</td>\n",
       "      <td>-4.562989e-01</td>\n",
       "      <td>-2.117214e-01</td>\n",
       "      <td>-2.283949e-01</td>\n",
       "      <td>-5.423504e-01</td>\n",
       "      <td>-1.618463e-01</td>\n",
       "      <td>-3.545861e-01</td>\n",
       "      <td>-3.171451e-01</td>\n",
       "      <td>-3.269839e-01</td>\n",
       "      <td>-7.083953e-02</td>\n",
       "      <td>-5.295979e-02</td>\n",
       "      <td>5.600000</td>\n",
       "      <td>0.000000</td>\n",
       "    </tr>\n",
       "    <tr>\n",
       "      <th>50%</th>\n",
       "      <td>84692.000000</td>\n",
       "      <td>1.810880e-02</td>\n",
       "      <td>6.548556e-02</td>\n",
       "      <td>1.798463e-01</td>\n",
       "      <td>-1.984653e-02</td>\n",
       "      <td>-5.433583e-02</td>\n",
       "      <td>-2.741871e-01</td>\n",
       "      <td>4.010308e-02</td>\n",
       "      <td>2.235804e-02</td>\n",
       "      <td>-5.142873e-02</td>\n",
       "      <td>-9.291738e-02</td>\n",
       "      <td>-3.275735e-02</td>\n",
       "      <td>1.400326e-01</td>\n",
       "      <td>-1.356806e-02</td>\n",
       "      <td>5.060132e-02</td>\n",
       "      <td>4.807155e-02</td>\n",
       "      <td>6.641332e-02</td>\n",
       "      <td>-6.567575e-02</td>\n",
       "      <td>-3.636312e-03</td>\n",
       "      <td>3.734823e-03</td>\n",
       "      <td>-6.248109e-02</td>\n",
       "      <td>-2.945017e-02</td>\n",
       "      <td>6.781943e-03</td>\n",
       "      <td>-1.119293e-02</td>\n",
       "      <td>4.097606e-02</td>\n",
       "      <td>1.659350e-02</td>\n",
       "      <td>-5.213911e-02</td>\n",
       "      <td>1.342146e-03</td>\n",
       "      <td>1.124383e-02</td>\n",
       "      <td>22.000000</td>\n",
       "      <td>0.000000</td>\n",
       "    </tr>\n",
       "    <tr>\n",
       "      <th>75%</th>\n",
       "      <td>139320.500000</td>\n",
       "      <td>1.315642e+00</td>\n",
       "      <td>8.037239e-01</td>\n",
       "      <td>1.027196e+00</td>\n",
       "      <td>7.433413e-01</td>\n",
       "      <td>6.119264e-01</td>\n",
       "      <td>3.985649e-01</td>\n",
       "      <td>5.704361e-01</td>\n",
       "      <td>3.273459e-01</td>\n",
       "      <td>5.971390e-01</td>\n",
       "      <td>4.539234e-01</td>\n",
       "      <td>7.395934e-01</td>\n",
       "      <td>6.182380e-01</td>\n",
       "      <td>6.625050e-01</td>\n",
       "      <td>4.931498e-01</td>\n",
       "      <td>6.488208e-01</td>\n",
       "      <td>5.232963e-01</td>\n",
       "      <td>3.996750e-01</td>\n",
       "      <td>5.008067e-01</td>\n",
       "      <td>4.589494e-01</td>\n",
       "      <td>1.330408e-01</td>\n",
       "      <td>1.863772e-01</td>\n",
       "      <td>5.285536e-01</td>\n",
       "      <td>1.476421e-01</td>\n",
       "      <td>4.395266e-01</td>\n",
       "      <td>3.507156e-01</td>\n",
       "      <td>2.409522e-01</td>\n",
       "      <td>9.104512e-02</td>\n",
       "      <td>7.827995e-02</td>\n",
       "      <td>77.165000</td>\n",
       "      <td>0.000000</td>\n",
       "    </tr>\n",
       "    <tr>\n",
       "      <th>max</th>\n",
       "      <td>172792.000000</td>\n",
       "      <td>2.454930e+00</td>\n",
       "      <td>2.205773e+01</td>\n",
       "      <td>9.382558e+00</td>\n",
       "      <td>1.687534e+01</td>\n",
       "      <td>3.480167e+01</td>\n",
       "      <td>7.330163e+01</td>\n",
       "      <td>1.205895e+02</td>\n",
       "      <td>2.000721e+01</td>\n",
       "      <td>1.559499e+01</td>\n",
       "      <td>2.374514e+01</td>\n",
       "      <td>1.201891e+01</td>\n",
       "      <td>7.848392e+00</td>\n",
       "      <td>7.126883e+00</td>\n",
       "      <td>1.052677e+01</td>\n",
       "      <td>8.877742e+00</td>\n",
       "      <td>1.731511e+01</td>\n",
       "      <td>9.253526e+00</td>\n",
       "      <td>5.041069e+00</td>\n",
       "      <td>5.591971e+00</td>\n",
       "      <td>3.942090e+01</td>\n",
       "      <td>2.720284e+01</td>\n",
       "      <td>1.050309e+01</td>\n",
       "      <td>2.252841e+01</td>\n",
       "      <td>4.584549e+00</td>\n",
       "      <td>7.519589e+00</td>\n",
       "      <td>3.517346e+00</td>\n",
       "      <td>3.161220e+01</td>\n",
       "      <td>3.384781e+01</td>\n",
       "      <td>25691.160000</td>\n",
       "      <td>1.000000</td>\n",
       "    </tr>\n",
       "  </tbody>\n",
       "</table>\n",
       "</div>"
      ],
      "text/plain": [
       "                Time            V1            V2            V3            V4  \\\n",
       "count  284807.000000  2.848070e+05  2.848070e+05  2.848070e+05  2.848070e+05   \n",
       "mean    94813.859575  1.168375e-15  3.416908e-16 -1.379537e-15  2.074095e-15   \n",
       "std     47488.145955  1.958696e+00  1.651309e+00  1.516255e+00  1.415869e+00   \n",
       "min         0.000000 -5.640751e+01 -7.271573e+01 -4.832559e+01 -5.683171e+00   \n",
       "25%     54201.500000 -9.203734e-01 -5.985499e-01 -8.903648e-01 -8.486401e-01   \n",
       "50%     84692.000000  1.810880e-02  6.548556e-02  1.798463e-01 -1.984653e-02   \n",
       "75%    139320.500000  1.315642e+00  8.037239e-01  1.027196e+00  7.433413e-01   \n",
       "max    172792.000000  2.454930e+00  2.205773e+01  9.382558e+00  1.687534e+01   \n",
       "\n",
       "                 V5            V6            V7            V8            V9  \\\n",
       "count  2.848070e+05  2.848070e+05  2.848070e+05  2.848070e+05  2.848070e+05   \n",
       "mean   9.604066e-16  1.487313e-15 -5.556467e-16  1.213481e-16 -2.406331e-15   \n",
       "std    1.380247e+00  1.332271e+00  1.237094e+00  1.194353e+00  1.098632e+00   \n",
       "min   -1.137433e+02 -2.616051e+01 -4.355724e+01 -7.321672e+01 -1.343407e+01   \n",
       "25%   -6.915971e-01 -7.682956e-01 -5.540759e-01 -2.086297e-01 -6.430976e-01   \n",
       "50%   -5.433583e-02 -2.741871e-01  4.010308e-02  2.235804e-02 -5.142873e-02   \n",
       "75%    6.119264e-01  3.985649e-01  5.704361e-01  3.273459e-01  5.971390e-01   \n",
       "max    3.480167e+01  7.330163e+01  1.205895e+02  2.000721e+01  1.559499e+01   \n",
       "\n",
       "                V10           V11           V12           V13           V14  \\\n",
       "count  2.848070e+05  2.848070e+05  2.848070e+05  2.848070e+05  2.848070e+05   \n",
       "mean   2.239053e-15  1.673327e-15 -1.247012e-15  8.190001e-16  1.207294e-15   \n",
       "std    1.088850e+00  1.020713e+00  9.992014e-01  9.952742e-01  9.585956e-01   \n",
       "min   -2.458826e+01 -4.797473e+00 -1.868371e+01 -5.791881e+00 -1.921433e+01   \n",
       "25%   -5.354257e-01 -7.624942e-01 -4.055715e-01 -6.485393e-01 -4.255740e-01   \n",
       "50%   -9.291738e-02 -3.275735e-02  1.400326e-01 -1.356806e-02  5.060132e-02   \n",
       "75%    4.539234e-01  7.395934e-01  6.182380e-01  6.625050e-01  4.931498e-01   \n",
       "max    2.374514e+01  1.201891e+01  7.848392e+00  7.126883e+00  1.052677e+01   \n",
       "\n",
       "                V15           V16           V17           V18           V19  \\\n",
       "count  2.848070e+05  2.848070e+05  2.848070e+05  2.848070e+05  2.848070e+05   \n",
       "mean   4.887456e-15  1.437716e-15 -3.772171e-16  9.564149e-16  1.039917e-15   \n",
       "std    9.153160e-01  8.762529e-01  8.493371e-01  8.381762e-01  8.140405e-01   \n",
       "min   -4.498945e+00 -1.412985e+01 -2.516280e+01 -9.498746e+00 -7.213527e+00   \n",
       "25%   -5.828843e-01 -4.680368e-01 -4.837483e-01 -4.988498e-01 -4.562989e-01   \n",
       "50%    4.807155e-02  6.641332e-02 -6.567575e-02 -3.636312e-03  3.734823e-03   \n",
       "75%    6.488208e-01  5.232963e-01  3.996750e-01  5.008067e-01  4.589494e-01   \n",
       "max    8.877742e+00  1.731511e+01  9.253526e+00  5.041069e+00  5.591971e+00   \n",
       "\n",
       "                V20           V21           V22           V23           V24  \\\n",
       "count  2.848070e+05  2.848070e+05  2.848070e+05  2.848070e+05  2.848070e+05   \n",
       "mean   6.406204e-16  1.654067e-16 -3.568593e-16  2.578648e-16  4.473266e-15   \n",
       "std    7.709250e-01  7.345240e-01  7.257016e-01  6.244603e-01  6.056471e-01   \n",
       "min   -5.449772e+01 -3.483038e+01 -1.093314e+01 -4.480774e+01 -2.836627e+00   \n",
       "25%   -2.117214e-01 -2.283949e-01 -5.423504e-01 -1.618463e-01 -3.545861e-01   \n",
       "50%   -6.248109e-02 -2.945017e-02  6.781943e-03 -1.119293e-02  4.097606e-02   \n",
       "75%    1.330408e-01  1.863772e-01  5.285536e-01  1.476421e-01  4.395266e-01   \n",
       "max    3.942090e+01  2.720284e+01  1.050309e+01  2.252841e+01  4.584549e+00   \n",
       "\n",
       "                V25           V26           V27           V28         Amount  \\\n",
       "count  2.848070e+05  2.848070e+05  2.848070e+05  2.848070e+05  284807.000000   \n",
       "mean   5.340915e-16  1.683437e-15 -3.660091e-16 -1.227390e-16      88.349619   \n",
       "std    5.212781e-01  4.822270e-01  4.036325e-01  3.300833e-01     250.120109   \n",
       "min   -1.029540e+01 -2.604551e+00 -2.256568e+01 -1.543008e+01       0.000000   \n",
       "25%   -3.171451e-01 -3.269839e-01 -7.083953e-02 -5.295979e-02       5.600000   \n",
       "50%    1.659350e-02 -5.213911e-02  1.342146e-03  1.124383e-02      22.000000   \n",
       "75%    3.507156e-01  2.409522e-01  9.104512e-02  7.827995e-02      77.165000   \n",
       "max    7.519589e+00  3.517346e+00  3.161220e+01  3.384781e+01   25691.160000   \n",
       "\n",
       "               Class  \n",
       "count  284807.000000  \n",
       "mean        0.001727  \n",
       "std         0.041527  \n",
       "min         0.000000  \n",
       "25%         0.000000  \n",
       "50%         0.000000  \n",
       "75%         0.000000  \n",
       "max         1.000000  "
      ]
     },
     "execution_count": 7,
     "metadata": {},
     "output_type": "execute_result"
    }
   ],
   "source": [
    "df.describe()"
   ]
  },
  {
   "cell_type": "markdown",
   "id": "74fe2b7f",
   "metadata": {},
   "source": [
    "## Feature Scaling"
   ]
  },
  {
   "cell_type": "markdown",
   "id": "6a30d721",
   "metadata": {},
   "source": [
    "* All features are scaled except `Amount` and `Time`"
   ]
  },
  {
   "cell_type": "code",
   "execution_count": 8,
   "id": "7c0fb443",
   "metadata": {},
   "outputs": [],
   "source": [
    "std = StandardScaler()\n",
    "\n",
    "df['scaled_amount'] = std.fit_transform(df['Amount'].values.reshape(-1,1))\n",
    "df['scaled_time'] = std.fit_transform(df['Time'].values.reshape(-1,1))\n",
    "\n",
    "df.drop(['Time', 'Amount'], axis=1, inplace=True)"
   ]
  },
  {
   "cell_type": "code",
   "execution_count": 9,
   "id": "d8cd08af",
   "metadata": {},
   "outputs": [
    {
     "data": {
      "text/html": [
       "<div>\n",
       "<style scoped>\n",
       "    .dataframe tbody tr th:only-of-type {\n",
       "        vertical-align: middle;\n",
       "    }\n",
       "\n",
       "    .dataframe tbody tr th {\n",
       "        vertical-align: top;\n",
       "    }\n",
       "\n",
       "    .dataframe thead th {\n",
       "        text-align: right;\n",
       "    }\n",
       "</style>\n",
       "<table border=\"1\" class=\"dataframe\">\n",
       "  <thead>\n",
       "    <tr style=\"text-align: right;\">\n",
       "      <th></th>\n",
       "      <th>V1</th>\n",
       "      <th>V2</th>\n",
       "      <th>V3</th>\n",
       "      <th>V4</th>\n",
       "      <th>V5</th>\n",
       "      <th>V6</th>\n",
       "      <th>V7</th>\n",
       "      <th>V8</th>\n",
       "      <th>V9</th>\n",
       "      <th>V10</th>\n",
       "      <th>V11</th>\n",
       "      <th>V12</th>\n",
       "      <th>V13</th>\n",
       "      <th>V14</th>\n",
       "      <th>V15</th>\n",
       "      <th>V16</th>\n",
       "      <th>V17</th>\n",
       "      <th>V18</th>\n",
       "      <th>V19</th>\n",
       "      <th>V20</th>\n",
       "      <th>V21</th>\n",
       "      <th>V22</th>\n",
       "      <th>V23</th>\n",
       "      <th>V24</th>\n",
       "      <th>V25</th>\n",
       "      <th>V26</th>\n",
       "      <th>V27</th>\n",
       "      <th>V28</th>\n",
       "      <th>Class</th>\n",
       "      <th>scaled_amount</th>\n",
       "      <th>scaled_time</th>\n",
       "    </tr>\n",
       "  </thead>\n",
       "  <tbody>\n",
       "    <tr>\n",
       "      <th>0</th>\n",
       "      <td>-1.359807</td>\n",
       "      <td>-0.072781</td>\n",
       "      <td>2.536347</td>\n",
       "      <td>1.378155</td>\n",
       "      <td>-0.338321</td>\n",
       "      <td>0.462388</td>\n",
       "      <td>0.239599</td>\n",
       "      <td>0.098698</td>\n",
       "      <td>0.363787</td>\n",
       "      <td>0.090794</td>\n",
       "      <td>-0.551600</td>\n",
       "      <td>-0.617801</td>\n",
       "      <td>-0.991390</td>\n",
       "      <td>-0.311169</td>\n",
       "      <td>1.468177</td>\n",
       "      <td>-0.470401</td>\n",
       "      <td>0.207971</td>\n",
       "      <td>0.025791</td>\n",
       "      <td>0.403993</td>\n",
       "      <td>0.251412</td>\n",
       "      <td>-0.018307</td>\n",
       "      <td>0.277838</td>\n",
       "      <td>-0.110474</td>\n",
       "      <td>0.066928</td>\n",
       "      <td>0.128539</td>\n",
       "      <td>-0.189115</td>\n",
       "      <td>0.133558</td>\n",
       "      <td>-0.021053</td>\n",
       "      <td>0</td>\n",
       "      <td>0.244964</td>\n",
       "      <td>-1.996583</td>\n",
       "    </tr>\n",
       "    <tr>\n",
       "      <th>1</th>\n",
       "      <td>1.191857</td>\n",
       "      <td>0.266151</td>\n",
       "      <td>0.166480</td>\n",
       "      <td>0.448154</td>\n",
       "      <td>0.060018</td>\n",
       "      <td>-0.082361</td>\n",
       "      <td>-0.078803</td>\n",
       "      <td>0.085102</td>\n",
       "      <td>-0.255425</td>\n",
       "      <td>-0.166974</td>\n",
       "      <td>1.612727</td>\n",
       "      <td>1.065235</td>\n",
       "      <td>0.489095</td>\n",
       "      <td>-0.143772</td>\n",
       "      <td>0.635558</td>\n",
       "      <td>0.463917</td>\n",
       "      <td>-0.114805</td>\n",
       "      <td>-0.183361</td>\n",
       "      <td>-0.145783</td>\n",
       "      <td>-0.069083</td>\n",
       "      <td>-0.225775</td>\n",
       "      <td>-0.638672</td>\n",
       "      <td>0.101288</td>\n",
       "      <td>-0.339846</td>\n",
       "      <td>0.167170</td>\n",
       "      <td>0.125895</td>\n",
       "      <td>-0.008983</td>\n",
       "      <td>0.014724</td>\n",
       "      <td>0</td>\n",
       "      <td>-0.342475</td>\n",
       "      <td>-1.996583</td>\n",
       "    </tr>\n",
       "    <tr>\n",
       "      <th>2</th>\n",
       "      <td>-1.358354</td>\n",
       "      <td>-1.340163</td>\n",
       "      <td>1.773209</td>\n",
       "      <td>0.379780</td>\n",
       "      <td>-0.503198</td>\n",
       "      <td>1.800499</td>\n",
       "      <td>0.791461</td>\n",
       "      <td>0.247676</td>\n",
       "      <td>-1.514654</td>\n",
       "      <td>0.207643</td>\n",
       "      <td>0.624501</td>\n",
       "      <td>0.066084</td>\n",
       "      <td>0.717293</td>\n",
       "      <td>-0.165946</td>\n",
       "      <td>2.345865</td>\n",
       "      <td>-2.890083</td>\n",
       "      <td>1.109969</td>\n",
       "      <td>-0.121359</td>\n",
       "      <td>-2.261857</td>\n",
       "      <td>0.524980</td>\n",
       "      <td>0.247998</td>\n",
       "      <td>0.771679</td>\n",
       "      <td>0.909412</td>\n",
       "      <td>-0.689281</td>\n",
       "      <td>-0.327642</td>\n",
       "      <td>-0.139097</td>\n",
       "      <td>-0.055353</td>\n",
       "      <td>-0.059752</td>\n",
       "      <td>0</td>\n",
       "      <td>1.160686</td>\n",
       "      <td>-1.996562</td>\n",
       "    </tr>\n",
       "    <tr>\n",
       "      <th>3</th>\n",
       "      <td>-0.966272</td>\n",
       "      <td>-0.185226</td>\n",
       "      <td>1.792993</td>\n",
       "      <td>-0.863291</td>\n",
       "      <td>-0.010309</td>\n",
       "      <td>1.247203</td>\n",
       "      <td>0.237609</td>\n",
       "      <td>0.377436</td>\n",
       "      <td>-1.387024</td>\n",
       "      <td>-0.054952</td>\n",
       "      <td>-0.226487</td>\n",
       "      <td>0.178228</td>\n",
       "      <td>0.507757</td>\n",
       "      <td>-0.287924</td>\n",
       "      <td>-0.631418</td>\n",
       "      <td>-1.059647</td>\n",
       "      <td>-0.684093</td>\n",
       "      <td>1.965775</td>\n",
       "      <td>-1.232622</td>\n",
       "      <td>-0.208038</td>\n",
       "      <td>-0.108300</td>\n",
       "      <td>0.005274</td>\n",
       "      <td>-0.190321</td>\n",
       "      <td>-1.175575</td>\n",
       "      <td>0.647376</td>\n",
       "      <td>-0.221929</td>\n",
       "      <td>0.062723</td>\n",
       "      <td>0.061458</td>\n",
       "      <td>0</td>\n",
       "      <td>0.140534</td>\n",
       "      <td>-1.996562</td>\n",
       "    </tr>\n",
       "    <tr>\n",
       "      <th>4</th>\n",
       "      <td>-1.158233</td>\n",
       "      <td>0.877737</td>\n",
       "      <td>1.548718</td>\n",
       "      <td>0.403034</td>\n",
       "      <td>-0.407193</td>\n",
       "      <td>0.095921</td>\n",
       "      <td>0.592941</td>\n",
       "      <td>-0.270533</td>\n",
       "      <td>0.817739</td>\n",
       "      <td>0.753074</td>\n",
       "      <td>-0.822843</td>\n",
       "      <td>0.538196</td>\n",
       "      <td>1.345852</td>\n",
       "      <td>-1.119670</td>\n",
       "      <td>0.175121</td>\n",
       "      <td>-0.451449</td>\n",
       "      <td>-0.237033</td>\n",
       "      <td>-0.038195</td>\n",
       "      <td>0.803487</td>\n",
       "      <td>0.408542</td>\n",
       "      <td>-0.009431</td>\n",
       "      <td>0.798278</td>\n",
       "      <td>-0.137458</td>\n",
       "      <td>0.141267</td>\n",
       "      <td>-0.206010</td>\n",
       "      <td>0.502292</td>\n",
       "      <td>0.219422</td>\n",
       "      <td>0.215153</td>\n",
       "      <td>0</td>\n",
       "      <td>-0.073403</td>\n",
       "      <td>-1.996541</td>\n",
       "    </tr>\n",
       "  </tbody>\n",
       "</table>\n",
       "</div>"
      ],
      "text/plain": [
       "         V1        V2        V3        V4        V5        V6        V7  \\\n",
       "0 -1.359807 -0.072781  2.536347  1.378155 -0.338321  0.462388  0.239599   \n",
       "1  1.191857  0.266151  0.166480  0.448154  0.060018 -0.082361 -0.078803   \n",
       "2 -1.358354 -1.340163  1.773209  0.379780 -0.503198  1.800499  0.791461   \n",
       "3 -0.966272 -0.185226  1.792993 -0.863291 -0.010309  1.247203  0.237609   \n",
       "4 -1.158233  0.877737  1.548718  0.403034 -0.407193  0.095921  0.592941   \n",
       "\n",
       "         V8        V9       V10       V11       V12       V13       V14  \\\n",
       "0  0.098698  0.363787  0.090794 -0.551600 -0.617801 -0.991390 -0.311169   \n",
       "1  0.085102 -0.255425 -0.166974  1.612727  1.065235  0.489095 -0.143772   \n",
       "2  0.247676 -1.514654  0.207643  0.624501  0.066084  0.717293 -0.165946   \n",
       "3  0.377436 -1.387024 -0.054952 -0.226487  0.178228  0.507757 -0.287924   \n",
       "4 -0.270533  0.817739  0.753074 -0.822843  0.538196  1.345852 -1.119670   \n",
       "\n",
       "        V15       V16       V17       V18       V19       V20       V21  \\\n",
       "0  1.468177 -0.470401  0.207971  0.025791  0.403993  0.251412 -0.018307   \n",
       "1  0.635558  0.463917 -0.114805 -0.183361 -0.145783 -0.069083 -0.225775   \n",
       "2  2.345865 -2.890083  1.109969 -0.121359 -2.261857  0.524980  0.247998   \n",
       "3 -0.631418 -1.059647 -0.684093  1.965775 -1.232622 -0.208038 -0.108300   \n",
       "4  0.175121 -0.451449 -0.237033 -0.038195  0.803487  0.408542 -0.009431   \n",
       "\n",
       "        V22       V23       V24       V25       V26       V27       V28  \\\n",
       "0  0.277838 -0.110474  0.066928  0.128539 -0.189115  0.133558 -0.021053   \n",
       "1 -0.638672  0.101288 -0.339846  0.167170  0.125895 -0.008983  0.014724   \n",
       "2  0.771679  0.909412 -0.689281 -0.327642 -0.139097 -0.055353 -0.059752   \n",
       "3  0.005274 -0.190321 -1.175575  0.647376 -0.221929  0.062723  0.061458   \n",
       "4  0.798278 -0.137458  0.141267 -0.206010  0.502292  0.219422  0.215153   \n",
       "\n",
       "   Class  scaled_amount  scaled_time  \n",
       "0      0       0.244964    -1.996583  \n",
       "1      0      -0.342475    -1.996583  \n",
       "2      0       1.160686    -1.996562  \n",
       "3      0       0.140534    -1.996562  \n",
       "4      0      -0.073403    -1.996541  "
      ]
     },
     "execution_count": 9,
     "metadata": {},
     "output_type": "execute_result"
    }
   ],
   "source": [
    "df.head()"
   ]
  },
  {
   "cell_type": "markdown",
   "id": "b1a877aa",
   "metadata": {},
   "source": [
    "## Data imbalance check"
   ]
  },
  {
   "cell_type": "code",
   "execution_count": 10,
   "id": "b67049b2",
   "metadata": {},
   "outputs": [
    {
     "data": {
      "text/plain": [
       "Class\n",
       "0    284315\n",
       "1       492\n",
       "Name: count, dtype: int64"
      ]
     },
     "execution_count": 10,
     "metadata": {},
     "output_type": "execute_result"
    }
   ],
   "source": [
    "df['Class'].value_counts()"
   ]
  },
  {
   "cell_type": "code",
   "execution_count": 11,
   "id": "8fcdcc70",
   "metadata": {},
   "outputs": [
    {
     "data": {
      "image/png": "[encoded data removed]",
      "text/plain": [
       "<Figure size 700x300 with 1 Axes>"
      ]
     },
     "metadata": {},
     "output_type": "display_data"
    }
   ],
   "source": [
    "sns.countplot(x=df[\"Class\"])\n",
    "\n",
    "sns.despine()"
   ]
  },
  {
   "cell_type": "markdown",
   "id": "91692a37",
   "metadata": {},
   "source": [
    "* Data is imbalanced. Most of the transactions are non-fraud.\n",
    "* We have to balance the data for accurate prediction."
   ]
  },
  {
   "cell_type": "code",
   "execution_count": 12,
   "id": "be688154",
   "metadata": {},
   "outputs": [
    {
     "name": "stdout",
     "output_type": "stream",
     "text": [
      "Non-Fraud transactions are 99.83% of the dataset\n",
      "Fraud transactions are 0.17% of the dataset\n"
     ]
    }
   ],
   "source": [
    "print(f\"Non-Fraud transactions are {round((df['Class'].value_counts()[0] / len(df))*100,2)}% of the dataset\")\n",
    "print(f\"Fraud transactions are {round((df['Class'].value_counts()[1] / len(df))*100,2)}% of the dataset\")"
   ]
  },
  {
   "cell_type": "markdown",
   "id": "da8bc872",
   "metadata": {},
   "source": [
    "* There are only 0.17% of transactions are fruad.\n",
    "* Our model will give 99.83% accurecy without predicting any fruad transactions.\n",
    "* We can't use accurecy metrix for imbalance data. We have to use **Precision** or **Recall** \n",
    "\n",
    "### Different techniques to handle Imbalanced data.\n",
    " \n",
    " 1. We will use different matrics and will change the threshold value of prediction by using `predict_proba` method. \n",
    " 2. We will use different imbalance data techniques such as **Oversampling**, **Undersamping**, **SMOTE**.\n",
    " 3. We will pass the `class_balance` parameter to balance the data.\n",
    " \n",
    " We will use all these five techniques and whichever technique gives best prediction we will select that technique."
   ]
  },
  {
   "cell_type": "markdown",
   "id": "6a60eaa0",
   "metadata": {},
   "source": [
    "## Why we shouldn't delete outliers in this case"
   ]
  },
  {
   "cell_type": "markdown",
   "id": "6d4de452",
   "metadata": {},
   "source": [
    "* Most of the outliers are fraud transactions therefore we can't remove or treat outlietrs."
   ]
  },
  {
   "cell_type": "markdown",
   "id": "a99dafc5",
   "metadata": {},
   "source": [
    "## Split the data"
   ]
  },
  {
   "cell_type": "code",
   "execution_count": 13,
   "id": "8043c70c",
   "metadata": {},
   "outputs": [
    {
     "data": {
      "text/plain": [
       "((227845, 30), (56962, 30), (227845,), (56962,))"
      ]
     },
     "execution_count": 13,
     "metadata": {},
     "output_type": "execute_result"
    }
   ],
   "source": [
    "X = df.drop('Class', axis=1)\n",
    "y = df['Class']\n",
    "\n",
    "X_train, X_test, y_train, y_test = train_test_split(X, y, test_size = 0.2, random_state = 42)\n",
    "\n",
    "X_train.shape, X_test.shape, y_train.shape, y_test.shape"
   ]
  },
  {
   "cell_type": "code",
   "execution_count": 14,
   "id": "8786defa",
   "metadata": {},
   "outputs": [
    {
     "data": {
      "text/plain": [
       "Class\n",
       "0    227451\n",
       "1       394\n",
       "Name: count, dtype: int64"
      ]
     },
     "execution_count": 14,
     "metadata": {},
     "output_type": "execute_result"
    }
   ],
   "source": [
    "y_train.value_counts()"
   ]
  },
  {
   "cell_type": "code",
   "execution_count": 15,
   "id": "c34c25ff",
   "metadata": {},
   "outputs": [
    {
     "data": {
      "text/plain": [
       "Class\n",
       "0    56864\n",
       "1       98\n",
       "Name: count, dtype: int64"
      ]
     },
     "execution_count": 15,
     "metadata": {},
     "output_type": "execute_result"
    }
   ],
   "source": [
    "y_test.value_counts()"
   ]
  },
  {
   "cell_type": "markdown",
   "id": "6a636237",
   "metadata": {},
   "source": [
    "In this project, we are more focusing on **recall_score** because we have high risk of **False Positive**. It means,incorrectly predicting fraud transaction as genuine transaction."
   ]
  },
  {
   "cell_type": "markdown",
   "id": "1a5f003c",
   "metadata": {},
   "source": [
    "## Modeling without treating imbalance data"
   ]
  },
  {
   "cell_type": "markdown",
   "id": "094896bc",
   "metadata": {},
   "source": [
    "### Logistic Regression"
   ]
  },
  {
   "cell_type": "code",
   "execution_count": 22,
   "id": "60671b6a",
   "metadata": {},
   "outputs": [
    {
     "data": {
      "text/plain": [
       "LogisticRegression()"
      ]
     },
     "execution_count": 22,
     "metadata": {},
     "output_type": "execute_result"
    }
   ],
   "source": [
    "lr = LogisticRegression()\n",
    "\n",
    "lr.fit(X_train, y_train)"
   ]
  },
  {
   "cell_type": "code",
   "execution_count": 23,
   "id": "23e7c20f",
   "metadata": {},
   "outputs": [
    {
     "name": "stdout",
     "output_type": "stream",
     "text": [
      "Training Accurecy : 0.9992319339902126\n",
      "Test Accurecy : 0.9991222218320986\n",
      "Training precision : 0.8953068592057761\n",
      "Test precision : 0.8636363636363636\n",
      "Training recall : 0.6294416243654822\n",
      "Test recall : 0.5816326530612245\n",
      "Training f1_score : 0.7391952309985096\n",
      "Test f_score : 0.6951219512195121\n"
     ]
    }
   ],
   "source": [
    "print(f'Training Accurecy : {accuracy_score(y_train, lr.predict(X_train))}')\n",
    "print(f'Test Accurecy : {accuracy_score(y_test, lr.predict(X_test))}')\n",
    "print(f'Training precision : {precision_score(y_train, lr.predict(X_train))}')\n",
    "print(f'Test precision : {precision_score(y_test, lr.predict(X_test))}')\n",
    "print(f'Training recall : {recall_score(y_train, lr.predict(X_train))}')\n",
    "print(f'Test recall : {recall_score(y_test, lr.predict(X_test))}')\n",
    "print(f'Training f1_score : {f1_score(y_train, lr.predict(X_train))}')\n",
    "print(f'Test f_score : {f1_score(y_test, lr.predict(X_test))}')"
   ]
  },
  {
   "cell_type": "code",
   "execution_count": 24,
   "id": "a5c78af2",
   "metadata": {},
   "outputs": [
    {
     "data": {
      "text/plain": [
       "<Axes: >"
      ]
     },
     "execution_count": 24,
     "metadata": {},
     "output_type": "execute_result"
    },
    {
     "data": {
      "image/png": "[encoded data removed]",
      "text/plain": [
       "<Figure size 700x300 with 2 Axes>"
      ]
     },
     "metadata": {},
     "output_type": "display_data"
    }
   ],
   "source": [
    "sns.heatmap(confusion_matrix(y_test, lr.predict(X_test)), annot=True,\n",
    "           fmt = 'g', \n",
    "           cmap=\"Blues\",\n",
    "           square=True)"
   ]
  },
  {
   "cell_type": "markdown",
   "id": "f88a4fb2",
   "metadata": {},
   "source": [
    "* Here `False Negative` values are high which means some of the fraud transactions are predicting as a non-fraud transactions."
   ]
  },
  {
   "cell_type": "code",
   "execution_count": 25,
   "id": "efb4645c",
   "metadata": {},
   "outputs": [
    {
     "data": {
      "text/html": [
       "<div>\n",
       "<style scoped>\n",
       "    .dataframe tbody tr th:only-of-type {\n",
       "        vertical-align: middle;\n",
       "    }\n",
       "\n",
       "    .dataframe tbody tr th {\n",
       "        vertical-align: top;\n",
       "    }\n",
       "\n",
       "    .dataframe thead th {\n",
       "        text-align: right;\n",
       "    }\n",
       "</style>\n",
       "<table border=\"1\" class=\"dataframe\">\n",
       "  <thead>\n",
       "    <tr style=\"text-align: right;\">\n",
       "      <th></th>\n",
       "      <th>Logistic Regresion</th>\n",
       "      <th>Accurecy</th>\n",
       "      <th>Precision</th>\n",
       "      <th>Recall</th>\n",
       "      <th>F1_score</th>\n",
       "    </tr>\n",
       "  </thead>\n",
       "  <tbody>\n",
       "    <tr>\n",
       "      <th>0</th>\n",
       "      <td>Original data</td>\n",
       "      <td>0.9991</td>\n",
       "      <td>0.8636</td>\n",
       "      <td>0.5816</td>\n",
       "      <td>0.6951</td>\n",
       "    </tr>\n",
       "  </tbody>\n",
       "</table>\n",
       "</div>"
      ],
      "text/plain": [
       "  Logistic Regresion  Accurecy  Precision  Recall  F1_score\n",
       "0      Original data    0.9991     0.8636  0.5816    0.6951"
      ]
     },
     "execution_count": 25,
     "metadata": {},
     "output_type": "execute_result"
    }
   ],
   "source": [
    "lr_accuracy = accuracy_score(y_test, lr.predict(X_test)).round(4)\n",
    "lr_precision = precision_score(y_test, lr.predict(X_test)).round(4)\n",
    "lr_recall = recall_score(y_test, lr.predict(X_test)).round(4)\n",
    "lr_f1_score = f1_score(y_test, lr.predict(X_test)).round(4)\n",
    "\n",
    "lr_scores = [(lr_accuracy, lr_precision, lr_recall, lr_f1_score)]\n",
    "\n",
    "lr_scores = pd.DataFrame(data = lr_scores, columns=['Accurecy','Precision','Recall','F1_score'])\n",
    "\n",
    "lr_scores.insert(0, 'Logistic Regresion','Original data')\n",
    "\n",
    "lr_scores"
   ]
  },
  {
   "cell_type": "markdown",
   "id": "963869ab",
   "metadata": {},
   "source": [
    "### Random Forest"
   ]
  },
  {
   "cell_type": "code",
   "execution_count": 26,
   "id": "7f79902b",
   "metadata": {},
   "outputs": [
    {
     "data": {
      "text/plain": [
       "RandomForestClassifier()"
      ]
     },
     "execution_count": 26,
     "metadata": {},
     "output_type": "execute_result"
    }
   ],
   "source": [
    "rf = RandomForestClassifier()\n",
    "\n",
    "rf.fit(X_train, y_train)"
   ]
  },
  {
   "cell_type": "code",
   "execution_count": 27,
   "id": "307b4a84",
   "metadata": {},
   "outputs": [
    {
     "name": "stdout",
     "output_type": "stream",
     "text": [
      "Training Accurecy : 1.0\n",
      "Test Accurecy : 0.9995962220427653\n",
      "Training precision : 1.0\n",
      "Test precision : 0.9629629629629629\n",
      "Training recall : 1.0\n",
      "Test recall : 0.7959183673469388\n",
      "Training f1_score : 1.0\n",
      "Test f_score : 0.871508379888268\n"
     ]
    }
   ],
   "source": [
    "print(f'Training Accurecy : {accuracy_score(y_train, rf.predict(X_train))}')\n",
    "print(f'Test Accurecy : {accuracy_score(y_test, rf.predict(X_test))}')\n",
    "print(f'Training precision : {precision_score(y_train, rf.predict(X_train))}')\n",
    "print(f'Test precision : {precision_score(y_test, rf.predict(X_test))}')\n",
    "print(f'Training recall : {recall_score(y_train, rf.predict(X_train))}')\n",
    "print(f'Test recall : {recall_score(y_test, rf.predict(X_test))}')\n",
    "print(f'Training f1_score : {f1_score(y_train, rf.predict(X_train))}')\n",
    "print(f'Test f_score : {f1_score(y_test, rf.predict(X_test))}')"
   ]
  },
  {
   "cell_type": "code",
   "execution_count": 28,
   "id": "59ee791e",
   "metadata": {},
   "outputs": [
    {
     "data": {
      "text/plain": [
       "<Axes: >"
      ]
     },
     "execution_count": 28,
     "metadata": {},
     "output_type": "execute_result"
    },
    {
     "data": {
      "image/png": "[encoded data removed]",
      "text/plain": [
       "<Figure size 700x300 with 2 Axes>"
      ]
     },
     "metadata": {},
     "output_type": "display_data"
    }
   ],
   "source": [
    "sns.heatmap(confusion_matrix(y_test, rf.predict(X_test)), annot=True,\n",
    "           fmt = 'g', \n",
    "           cmap=\"Blues\",\n",
    "           square=True)"
   ]
  },
  {
   "cell_type": "markdown",
   "id": "f48f335b",
   "metadata": {},
   "source": [
    "* Here `False Negative` values are high which means some of the fraud transactions are predicting as a non-fraud transactions.\n",
    "* `RandomForestClassifier` giving better prediction than `Logistic Regression`."
   ]
  },
  {
   "cell_type": "markdown",
   "id": "c6bdd714",
   "metadata": {},
   "source": [
    "* <b>LogisticRegression</b>: `recall_score` for test is 0.58 which is very low.\n",
    "* <b>RandomForestClassifer</b>: `recall_score` for test is 0.77 which is low.\n",
    "    \n",
    "We will try to improve recall score by applying different imbalance techniques."
   ]
  },
  {
   "cell_type": "markdown",
   "id": "d0aab0a8",
   "metadata": {},
   "source": [
    "## Training models using different metrics and changing threshold value of prediction."
   ]
  },
  {
   "cell_type": "markdown",
   "id": "a5ab9644",
   "metadata": {},
   "source": [
    "* We will use `recall` score here to predict the output because here risk of `false positive` is high.\n",
    "* <b>False Positive</b>: Predicting fraud transaction as non-fraud."
   ]
  },
  {
   "cell_type": "code",
   "execution_count": 29,
   "id": "74bfcb54",
   "metadata": {},
   "outputs": [
    {
     "data": {
      "image/png": "[encoded data removed]",
      "text/plain": [
       "<Figure size 700x300 with 1 Axes>"
      ]
     },
     "metadata": {},
     "output_type": "display_data"
    }
   ],
   "source": [
    "## Ploting precision_recall_curve\n",
    "\n",
    "p_curve, r_curve, t_curve = precision_recall_curve(y_train, lr.predict_proba(X_train)[:,1])\n",
    "\n",
    "plt.plot(t_curve, p_curve[:-1], label='precision_score')\n",
    "plt.plot(t_curve, r_curve[:-1], label='recall_score')\n",
    "plt.title('Precision Recall Curve')\n",
    "plt.xlabel('Threshold Values')\n",
    "plt.ylabel('Scores')\n",
    "plt.show()"
   ]
  },
  {
   "cell_type": "markdown",
   "id": "d5a0ad27",
   "metadata": {},
   "source": [
    "* When threshold values increasing, precision values also increasing.\n",
    "* When threshold values increasing , recall values decreasing.\n",
    "* To increase our recall value, we have to keep our threshold less than 0.5.\n",
    "* We will check highest f1_score and will calculate precision and recall score for that threshold value."
   ]
  },
  {
   "cell_type": "code",
   "execution_count": 30,
   "id": "44902ed8",
   "metadata": {},
   "outputs": [
    {
     "data": {
      "image/png": "[encoded data removed]",
      "text/plain": [
       "<Figure size 700x300 with 1 Axes>"
      ]
     },
     "metadata": {},
     "output_type": "display_data"
    }
   ],
   "source": [
    "f1 = []\n",
    "\n",
    "thresholds = np.linspace(0, 1, 101)\n",
    "\n",
    "for thresh in thresholds:\n",
    "    score = f1_score(y_train, lr.predict_proba(X_train)[:,1]>thresh)\n",
    "    f1.append(score)\n",
    "    \n",
    "sns.lineplot(x= thresholds, y=f1)\n",
    "sns.despine()"
   ]
  },
  {
   "cell_type": "code",
   "execution_count": 31,
   "id": "4d564d93",
   "metadata": {},
   "outputs": [
    {
     "data": {
      "text/plain": [
       "0.17"
      ]
     },
     "execution_count": 31,
     "metadata": {},
     "output_type": "execute_result"
    }
   ],
   "source": [
    "thresh = thresholds[f1.index(max(f1))]\n",
    "thresh"
   ]
  },
  {
   "cell_type": "markdown",
   "id": "d2d36885",
   "metadata": {},
   "source": [
    "* We will use this threshold value to train our models."
   ]
  },
  {
   "cell_type": "markdown",
   "id": "7c5a1ba2",
   "metadata": {},
   "source": [
    "### Logistic Regression"
   ]
  },
  {
   "cell_type": "code",
   "execution_count": 32,
   "id": "ab332fa5",
   "metadata": {},
   "outputs": [
    {
     "data": {
      "text/plain": [
       "LogisticRegression()"
      ]
     },
     "execution_count": 32,
     "metadata": {},
     "output_type": "execute_result"
    }
   ],
   "source": [
    "lr_thresh = LogisticRegression()\n",
    "\n",
    "lr_thresh.fit(X_train, y_train)"
   ]
  },
  {
   "cell_type": "code",
   "execution_count": 33,
   "id": "3ae49e85",
   "metadata": {},
   "outputs": [
    {
     "name": "stdout",
     "output_type": "stream",
     "text": [
      "Training Accurecy : 0.9992933792709956\n",
      "Test Accurecy : 0.9992099996488887\n",
      "Training precision : 0.8157181571815718\n",
      "Test precision : 0.8117647058823529\n",
      "Training recall : 0.7639593908629442\n",
      "Test recall : 0.7040816326530612\n",
      "Training f1_score : 0.7889908256880733\n",
      "Test f_score : 0.7540983606557378\n"
     ]
    }
   ],
   "source": [
    "print(f'Training Accurecy : {accuracy_score(y_train, lr_thresh.predict_proba(X_train)[:,1] > thresh)}')\n",
    "print(f'Test Accurecy : {accuracy_score(y_test, lr_thresh.predict_proba(X_test)[:,1] > thresh)}')\n",
    "print(f'Training precision : {precision_score(y_train, lr_thresh.predict_proba(X_train)[:,1] > thresh)}')\n",
    "print(f'Test precision : {precision_score(y_test, lr_thresh.predict_proba(X_test)[:,1] > thresh)}')\n",
    "print(f'Training recall : {recall_score(y_train, lr_thresh.predict_proba(X_train)[:,1] > thresh)}')\n",
    "print(f'Test recall : {recall_score(y_test, lr_thresh.predict_proba(X_test)[:,1] > thresh)}')\n",
    "print(f'Training f1_score : {f1_score(y_train, lr_thresh.predict_proba(X_train)[:,1] > thresh)}')\n",
    "print(f'Test f_score : {f1_score(y_test, lr_thresh.predict_proba(X_test)[:,1] > thresh)}')"
   ]
  },
  {
   "cell_type": "code",
   "execution_count": 34,
   "id": "27941063",
   "metadata": {},
   "outputs": [
    {
     "data": {
      "image/png": "[encoded data removed]",
      "text/plain": [
       "<Figure size 700x300 with 2 Axes>"
      ]
     },
     "metadata": {},
     "output_type": "display_data"
    }
   ],
   "source": [
    "sns.heatmap(confusion_matrix(y_test, lr_thresh.predict_proba(X_test)[:,1] > thresh),\n",
    "           annot = True,\n",
    "           fmt = 'g',\n",
    "           square = True,\n",
    "           cmap = 'Blues');"
   ]
  },
  {
   "cell_type": "code",
   "execution_count": 35,
   "id": "7471c586",
   "metadata": {},
   "outputs": [
    {
     "data": {
      "text/html": [
       "<div>\n",
       "<style scoped>\n",
       "    .dataframe tbody tr th:only-of-type {\n",
       "        vertical-align: middle;\n",
       "    }\n",
       "\n",
       "    .dataframe tbody tr th {\n",
       "        vertical-align: top;\n",
       "    }\n",
       "\n",
       "    .dataframe thead th {\n",
       "        text-align: right;\n",
       "    }\n",
       "</style>\n",
       "<table border=\"1\" class=\"dataframe\">\n",
       "  <thead>\n",
       "    <tr style=\"text-align: right;\">\n",
       "      <th></th>\n",
       "      <th>Logistic Regresion</th>\n",
       "      <th>Accurecy</th>\n",
       "      <th>Precision</th>\n",
       "      <th>Recall</th>\n",
       "      <th>F1_score</th>\n",
       "    </tr>\n",
       "  </thead>\n",
       "  <tbody>\n",
       "    <tr>\n",
       "      <th>0</th>\n",
       "      <td>Change prediction threshold</td>\n",
       "      <td>0.9991</td>\n",
       "      <td>0.8636</td>\n",
       "      <td>0.5816</td>\n",
       "      <td>0.6951</td>\n",
       "    </tr>\n",
       "  </tbody>\n",
       "</table>\n",
       "</div>"
      ],
      "text/plain": [
       "            Logistic Regresion  Accurecy  Precision  Recall  F1_score\n",
       "0  Change prediction threshold    0.9991     0.8636  0.5816    0.6951"
      ]
     },
     "execution_count": 35,
     "metadata": {},
     "output_type": "execute_result"
    }
   ],
   "source": [
    "lr_thresh_accuracy = accuracy_score(y_test, lr_thresh.predict(X_test)).round(4)\n",
    "lr_thresh_precision = precision_score(y_test, lr_thresh.predict(X_test)).round(4)\n",
    "lr_thresh_recall = recall_score(y_test, lr_thresh.predict(X_test)).round(4)\n",
    "lr_thresh_f1_score = f1_score(y_test, lr_thresh.predict(X_test)).round(4)\n",
    "\n",
    "lr_thresh_scores = [(lr_thresh_accuracy, lr_thresh_precision, lr_thresh_recall, lr_thresh_f1_score)]\n",
    "\n",
    "lr_thresh_scores = pd.DataFrame(data = lr_thresh_scores, columns=['Accurecy','Precision','Recall','F1_score'])\n",
    "\n",
    "lr_thresh_scores.insert(0, 'Logistic Regresion','Change prediction threshold')\n",
    "\n",
    "lr_thresh_scores"
   ]
  },
  {
   "cell_type": "code",
   "execution_count": null,
   "id": "4c321669",
   "metadata": {},
   "outputs": [],
   "source": []
  },
  {
   "cell_type": "markdown",
   "id": "82e901a2",
   "metadata": {},
   "source": [
    "### Random Forest"
   ]
  },
  {
   "cell_type": "code",
   "execution_count": 36,
   "id": "9f7e44a5",
   "metadata": {},
   "outputs": [
    {
     "data": {
      "text/plain": [
       "RandomForestClassifier(max_depth=10)"
      ]
     },
     "execution_count": 36,
     "metadata": {},
     "output_type": "execute_result"
    }
   ],
   "source": [
    "rf_thresh = RandomForestClassifier(n_estimators = 100, max_depth = 10)\n",
    "\n",
    "rf_thresh.fit(X_train, y_train)"
   ]
  },
  {
   "cell_type": "code",
   "execution_count": 37,
   "id": "14ec3f0f",
   "metadata": {},
   "outputs": [
    {
     "name": "stdout",
     "output_type": "stream",
     "text": [
      "Training Accurecy : 0.9996532730584389\n",
      "Test Accurecy : 0.999385555282469\n",
      "Training precision : 0.9315068493150684\n",
      "Test precision : 0.8058252427184466\n",
      "Training recall : 0.8629441624365483\n",
      "Test recall : 0.8469387755102041\n",
      "Training f1_score : 0.8959156785243741\n",
      "Test f_score : 0.8258706467661691\n"
     ]
    }
   ],
   "source": [
    "print(f'Training Accurecy : {accuracy_score(y_train, rf_thresh.predict_proba(X_train)[:,1] > thresh)}')\n",
    "print(f'Test Accurecy : {accuracy_score(y_test, rf_thresh.predict_proba(X_test)[:,1] > thresh)}')\n",
    "print(f'Training precision : {precision_score(y_train, rf_thresh.predict_proba(X_train)[:,1] > thresh)}')\n",
    "print(f'Test precision : {precision_score(y_test, rf_thresh.predict_proba(X_test)[:,1] > thresh)}')\n",
    "print(f'Training recall : {recall_score(y_train, rf_thresh.predict_proba(X_train)[:,1] > thresh)}')\n",
    "print(f'Test recall : {recall_score(y_test, rf_thresh.predict_proba(X_test)[:,1] > thresh)}')\n",
    "print(f'Training f1_score : {f1_score(y_train, rf_thresh.predict_proba(X_train)[:,1] > thresh)}')\n",
    "print(f'Test f_score : {f1_score(y_test, rf_thresh.predict_proba(X_test)[:,1] > thresh)}')"
   ]
  },
  {
   "cell_type": "code",
   "execution_count": 38,
   "id": "3aa494c4",
   "metadata": {},
   "outputs": [
    {
     "data": {
      "image/png": "[encoded data removed]",
      "text/plain": [
       "<Figure size 700x300 with 2 Axes>"
      ]
     },
     "metadata": {},
     "output_type": "display_data"
    }
   ],
   "source": [
    "sns.heatmap(confusion_matrix(y_test, rf_thresh.predict_proba(X_test)[:,1] > thresh),\n",
    "           annot = True,\n",
    "           fmt = 'g',\n",
    "           square = True,\n",
    "           cmap = 'Blues');"
   ]
  },
  {
   "cell_type": "markdown",
   "id": "32924412",
   "metadata": {},
   "source": [
    "### Hyperparameter optimization using Optuna\n"
   ]
  },
  {
   "cell_type": "code",
   "execution_count": 39,
   "id": "64753397",
   "metadata": {},
   "outputs": [],
   "source": [
    "def objective(trial):\n",
    "    \n",
    "    n_estimators = trial.suggest_int('n_estimators', 100, 500)\n",
    "    max_depth = trial.suggest_int('max_depth', 5, 20)\n",
    "    min_samples_split = trial.suggest_int('min_samples_split', 2, 10)\n",
    "    min_samples_leaf = trial.suggest_int('min_samples_leaf', 1, 5)\n",
    "    \n",
    "    model = RandomForestClassifier(n_estimators = n_estimators,\n",
    "                                  max_depth = max_depth,\n",
    "                                  min_samples_split = min_samples_split,\n",
    "                                  min_samples_leaf = min_samples_leaf)\n",
    "    \n",
    "    score = cross_val_score(model, X_train, y_train, cv=3, scoring='recall', n_jobs=-1)\n",
    "    recall = score.mean()\n",
    "    return recall"
   ]
  },
  {
   "cell_type": "code",
   "execution_count": 40,
   "id": "0998d4e6",
   "metadata": {},
   "outputs": [],
   "source": [
    "# study = optuna.create_study(direction='maximize')\n",
    "\n",
    "# study.optimize(objective, n_trials=50)"
   ]
  },
  {
   "cell_type": "markdown",
   "id": "cf70f89d",
   "metadata": {},
   "source": [
    "### Gradient Boosting Classifier"
   ]
  },
  {
   "cell_type": "code",
   "execution_count": 41,
   "id": "a99ab783",
   "metadata": {},
   "outputs": [
    {
     "data": {
      "text/plain": [
       "GradientBoostingClassifier(random_state=42)"
      ]
     },
     "execution_count": 41,
     "metadata": {},
     "output_type": "execute_result"
    }
   ],
   "source": [
    "gbc_thresh = GradientBoostingClassifier(random_state = 42)\n",
    "\n",
    "gbc_thresh.fit(X_train, y_train)"
   ]
  },
  {
   "cell_type": "code",
   "execution_count": 42,
   "id": "f58e87ce",
   "metadata": {},
   "outputs": [
    {
     "name": "stdout",
     "output_type": "stream",
     "text": [
      "Training Accurecy : 0.9992187671443306\n",
      "Test Accurecy : 0.9990695551420246\n",
      "Training precision : 0.8333333333333334\n",
      "Test precision : 0.7472527472527473\n",
      "Training recall : 0.6852791878172588\n",
      "Test recall : 0.6938775510204082\n",
      "Training f1_score : 0.7520891364902508\n",
      "Test f_score : 0.7195767195767196\n"
     ]
    }
   ],
   "source": [
    "print(f'Training Accurecy : {accuracy_score(y_train, gbc_thresh.predict_proba(X_train)[:,1] > thresh)}')\n",
    "print(f'Test Accurecy : {accuracy_score(y_test, gbc_thresh.predict_proba(X_test)[:,1] > thresh)}')\n",
    "print(f'Training precision : {precision_score(y_train, gbc_thresh.predict_proba(X_train)[:,1] > thresh)}')\n",
    "print(f'Test precision : {precision_score(y_test, gbc_thresh.predict_proba(X_test)[:,1] > thresh)}')\n",
    "print(f'Training recall : {recall_score(y_train, gbc_thresh.predict_proba(X_train)[:,1] > thresh)}')\n",
    "print(f'Test recall : {recall_score(y_test, gbc_thresh.predict_proba(X_test)[:,1] > thresh)}')\n",
    "print(f'Training f1_score : {f1_score(y_train, gbc_thresh.predict_proba(X_train)[:,1] > thresh)}')\n",
    "print(f'Test f_score : {f1_score(y_test, gbc_thresh.predict_proba(X_test)[:,1] > thresh)}')"
   ]
  },
  {
   "cell_type": "code",
   "execution_count": 43,
   "id": "92ce630b",
   "metadata": {},
   "outputs": [
    {
     "data": {
      "image/png": "[encoded data removed]",
      "text/plain": [
       "<Figure size 700x300 with 2 Axes>"
      ]
     },
     "metadata": {},
     "output_type": "display_data"
    }
   ],
   "source": [
    "sns.heatmap(confusion_matrix(y_test, gbc_thresh.predict_proba(X_test)[:,1] > thresh),\n",
    "           annot = True,\n",
    "           fmt = 'g',\n",
    "           square = True,\n",
    "           cmap = 'Blues');"
   ]
  },
  {
   "cell_type": "markdown",
   "id": "2f331118",
   "metadata": {},
   "source": [
    "### Ada Boost"
   ]
  },
  {
   "cell_type": "code",
   "execution_count": 44,
   "id": "1ea7179a",
   "metadata": {},
   "outputs": [
    {
     "data": {
      "text/plain": [
       "AdaBoostClassifier()"
      ]
     },
     "execution_count": 44,
     "metadata": {},
     "output_type": "execute_result"
    }
   ],
   "source": [
    "ab_thresh = AdaBoostClassifier()\n",
    "\n",
    "ab_thresh.fit(X_train, y_train)"
   ]
  },
  {
   "cell_type": "code",
   "execution_count": 45,
   "id": "ec3849fe",
   "metadata": {},
   "outputs": [
    {
     "name": "stdout",
     "output_type": "stream",
     "text": [
      "Training Accurecy : 0.011437600122890561\n",
      "Test Accurecy : 0.01192022752010112\n",
      "Training precision : 0.0017461984727411327\n",
      "Test precision : 0.0017381742076231354\n",
      "Training recall : 1.0\n",
      "Test recall : 1.0\n",
      "Training f1_score : 0.003486309157755489\n",
      "Test f_score : 0.0034703164007861323\n"
     ]
    }
   ],
   "source": [
    "print(f'Training Accurecy : {accuracy_score(y_train, ab_thresh.predict_proba(X_train)[:,1] > thresh)}')\n",
    "print(f'Test Accurecy : {accuracy_score(y_test, ab_thresh.predict_proba(X_test)[:,1] > thresh)}')\n",
    "print(f'Training precision : {precision_score(y_train, ab_thresh.predict_proba(X_train)[:,1] > thresh)}')\n",
    "print(f'Test precision : {precision_score(y_test, ab_thresh.predict_proba(X_test)[:,1] > thresh)}')\n",
    "print(f'Training recall : {recall_score(y_train, ab_thresh.predict_proba(X_train)[:,1] > thresh)}')\n",
    "print(f'Test recall : {recall_score(y_test, ab_thresh.predict_proba(X_test)[:,1] > thresh)}')\n",
    "print(f'Training f1_score : {f1_score(y_train, ab_thresh.predict_proba(X_train)[:,1] > thresh)}')\n",
    "print(f'Test f_score : {f1_score(y_test, ab_thresh.predict_proba(X_test)[:,1] > thresh)}')"
   ]
  },
  {
   "cell_type": "code",
   "execution_count": 46,
   "id": "d3089f1c",
   "metadata": {},
   "outputs": [
    {
     "data": {
      "image/png": "[encoded data removed]",
      "text/plain": [
       "<Figure size 700x300 with 2 Axes>"
      ]
     },
     "metadata": {},
     "output_type": "display_data"
    }
   ],
   "source": [
    "sns.heatmap(confusion_matrix(y_test, ab_thresh.predict_proba(X_test)[:,1] > thresh),\n",
    "           annot = True,\n",
    "           fmt = 'g',\n",
    "           square = True,\n",
    "           cmap = 'Blues');"
   ]
  },
  {
   "cell_type": "markdown",
   "id": "da713b04",
   "metadata": {},
   "source": [
    "### KNN"
   ]
  },
  {
   "cell_type": "code",
   "execution_count": 47,
   "id": "7cd08579",
   "metadata": {},
   "outputs": [
    {
     "data": {
      "text/plain": [
       "KNeighborsClassifier()"
      ]
     },
     "execution_count": 47,
     "metadata": {},
     "output_type": "execute_result"
    }
   ],
   "source": [
    "knn_thresh = KNeighborsClassifier(n_neighbors = 5)\n",
    "\n",
    "knn_thresh.fit(X_train, y_train)"
   ]
  },
  {
   "cell_type": "code",
   "execution_count": 48,
   "id": "eadedf6e",
   "metadata": {},
   "outputs": [
    {
     "name": "stdout",
     "output_type": "stream",
     "text": [
      "Training Accurecy : 0.999174877658057\n",
      "Test Accurecy : 0.99875355500158\n",
      "Training precision : 0.6769759450171822\n",
      "Test precision : 0.5944055944055944\n",
      "Training recall : 1.0\n",
      "Test recall : 0.8673469387755102\n",
      "Training f1_score : 0.8073770491803279\n",
      "Test f_score : 0.7053941908713693\n"
     ]
    }
   ],
   "source": [
    "print(f'Training Accurecy : {accuracy_score(y_train, knn_thresh.predict_proba(X_train)[:,1] > thresh)}')\n",
    "print(f'Test Accurecy : {accuracy_score(y_test, knn_thresh.predict_proba(X_test)[:,1] > thresh)}')\n",
    "print(f'Training precision : {precision_score(y_train, knn_thresh.predict_proba(X_train)[:,1] > thresh)}')\n",
    "print(f'Test precision : {precision_score(y_test, knn_thresh.predict_proba(X_test)[:,1] > thresh)}')\n",
    "print(f'Training recall : {recall_score(y_train, knn_thresh.predict_proba(X_train)[:,1] > thresh)}')\n",
    "print(f'Test recall : {recall_score(y_test, knn_thresh.predict_proba(X_test)[:,1] > thresh)}')\n",
    "print(f'Training f1_score : {f1_score(y_train, knn_thresh.predict_proba(X_train)[:,1] > thresh)}')\n",
    "print(f'Test f_score : {f1_score(y_test, knn_thresh.predict_proba(X_test)[:,1] > thresh)}')"
   ]
  },
  {
   "cell_type": "code",
   "execution_count": 49,
   "id": "c1cc8dd3",
   "metadata": {},
   "outputs": [
    {
     "data": {
      "image/png": "[encoded data removed]",
      "text/plain": [
       "<Figure size 700x300 with 2 Axes>"
      ]
     },
     "metadata": {},
     "output_type": "display_data"
    }
   ],
   "source": [
    "sns.heatmap(confusion_matrix(y_test, knn_thresh.predict_proba(X_test)[:,1] > thresh),\n",
    "           annot = True,\n",
    "           fmt = 'g',\n",
    "           square = True,\n",
    "           cmap = 'Blues');"
   ]
  },
  {
   "cell_type": "markdown",
   "id": "25453076",
   "metadata": {},
   "source": [
    "* After changing threshold value to **0.17**, we are getting better scores for all the models.\n",
    "* `Random Forest` is predicting the best output.\n",
    "* We are getting the highest `f1_score` for Random Forest model."
   ]
  },
  {
   "cell_type": "markdown",
   "id": "cfeb1275",
   "metadata": {},
   "source": [
    "## Sampling Methods for imblance data"
   ]
  },
  {
   "cell_type": "markdown",
   "id": "bbc40a69",
   "metadata": {},
   "source": [
    "## Under Sampling"
   ]
  },
  {
   "cell_type": "markdown",
   "id": "8fd151bf",
   "metadata": {},
   "source": [
    "* In this method, you randomly reduce the number of samples from the majority class to balance it with the minority class.\n",
    "* You keep all the minority class samples and randomly remove some samples from the majority class to match the number of minority class samples.\n",
    "* You lose potentially useful information from the majority class, which could hurt model performance."
   ]
  },
  {
   "cell_type": "code",
   "execution_count": 50,
   "id": "e7cd38c6",
   "metadata": {},
   "outputs": [
    {
     "data": {
      "text/plain": [
       "LogisticRegression()"
      ]
     },
     "execution_count": 50,
     "metadata": {},
     "output_type": "execute_result"
    }
   ],
   "source": [
    "rus = us.RandomUnderSampler(sampling_strategy= 0.02,\n",
    "                           random_state=42)\n",
    "\n",
    "X_train_us, y_train_us = rus.fit_resample(X_train, y_train)\n",
    "\n",
    "lr_us = LogisticRegression()\n",
    "\n",
    "lr_us.fit(X_train_us, y_train_us)"
   ]
  },
  {
   "cell_type": "code",
   "execution_count": 51,
   "id": "4274c527",
   "metadata": {},
   "outputs": [
    {
     "name": "stdout",
     "output_type": "stream",
     "text": [
      "Training Accurecy : 0.9989027628431609\n",
      "Test Accurecy : 0.9990168884519505\n",
      "Training precision : 0.642292490118577\n",
      "Test precision : 0.6810344827586207\n",
      "Training recall : 0.8248730964467005\n",
      "Test recall : 0.8061224489795918\n",
      "Training f1_score : 0.7222222222222222\n",
      "Test f_score : 0.7383177570093458\n"
     ]
    }
   ],
   "source": [
    "print(f'Training Accurecy : {accuracy_score(y_train, lr_us.predict(X_train))}')\n",
    "print(f'Test Accurecy : {accuracy_score(y_test, lr_us.predict(X_test))}')\n",
    "print(f'Training precision : {precision_score(y_train, lr_us.predict(X_train))}')\n",
    "print(f'Test precision : {precision_score(y_test, lr_us.predict(X_test))}')\n",
    "print(f'Training recall : {recall_score(y_train, lr_us.predict(X_train))}')\n",
    "print(f'Test recall : {recall_score(y_test, lr_us.predict(X_test))}')\n",
    "print(f'Training f1_score : {f1_score(y_train, lr_us.predict(X_train))}')\n",
    "print(f'Test f_score : {f1_score(y_test, lr_us.predict(X_test))}')"
   ]
  },
  {
   "cell_type": "code",
   "execution_count": 52,
   "id": "6381d76b",
   "metadata": {},
   "outputs": [
    {
     "data": {
      "image/png": "[encoded data removed]",
      "text/plain": [
       "<Figure size 700x300 with 2 Axes>"
      ]
     },
     "metadata": {},
     "output_type": "display_data"
    }
   ],
   "source": [
    "sns.heatmap(confusion_matrix(y_test, lr_us.predict(X_test)),\n",
    "           annot = True,\n",
    "           fmt = 'g',\n",
    "           square = True,\n",
    "           cmap = 'Blues');"
   ]
  },
  {
   "cell_type": "code",
   "execution_count": 53,
   "id": "0a000b03",
   "metadata": {},
   "outputs": [
    {
     "data": {
      "text/plain": [
       "RandomForestClassifier(max_depth=10)"
      ]
     },
     "execution_count": 53,
     "metadata": {},
     "output_type": "execute_result"
    }
   ],
   "source": [
    "rf_us = RandomForestClassifier(n_estimators = 100, max_depth = 10)\n",
    "\n",
    "rf_us.fit(X_train_us, y_train_us)"
   ]
  },
  {
   "cell_type": "code",
   "execution_count": 54,
   "id": "e00c399b",
   "metadata": {},
   "outputs": [
    {
     "name": "stdout",
     "output_type": "stream",
     "text": [
      "Training Accurecy : 0.9992538787333495\n",
      "Test Accurecy : 0.9991397773954567\n",
      "Training precision : 0.75\n",
      "Test precision : 0.7058823529411765\n",
      "Training recall : 0.8527918781725888\n",
      "Test recall : 0.8571428571428571\n",
      "Training f1_score : 0.7980997624703089\n",
      "Test f_score : 0.7741935483870968\n"
     ]
    }
   ],
   "source": [
    "print(f'Training Accurecy : {accuracy_score(y_train, rf_us.predict(X_train))}')\n",
    "print(f'Test Accurecy : {accuracy_score(y_test, rf_us.predict(X_test))}')\n",
    "print(f'Training precision : {precision_score(y_train, rf_us.predict(X_train))}')\n",
    "print(f'Test precision : {precision_score(y_test, rf_us.predict(X_test))}')\n",
    "print(f'Training recall : {recall_score(y_train, rf_us.predict(X_train))}')\n",
    "print(f'Test recall : {recall_score(y_test, rf_us.predict(X_test))}')\n",
    "print(f'Training f1_score : {f1_score(y_train, rf_us.predict(X_train))}')\n",
    "print(f'Test f_score : {f1_score(y_test, rf_us.predict(X_test))}')"
   ]
  },
  {
   "cell_type": "code",
   "execution_count": 55,
   "id": "019bacd6",
   "metadata": {},
   "outputs": [
    {
     "data": {
      "image/png": "[encoded data removed]",
      "text/plain": [
       "<Figure size 700x300 with 2 Axes>"
      ]
     },
     "metadata": {},
     "output_type": "display_data"
    }
   ],
   "source": [
    "sns.heatmap(confusion_matrix(y_test, rf_us.predict(X_test)),\n",
    "           annot = True,\n",
    "           fmt = 'g',\n",
    "           square = True,\n",
    "           cmap = 'Blues');"
   ]
  },
  {
   "cell_type": "markdown",
   "id": "c0651cca",
   "metadata": {},
   "source": [
    "## Over Sampling"
   ]
  },
  {
   "cell_type": "markdown",
   "id": "9aad95ad",
   "metadata": {},
   "source": [
    "* This technique increases the number of samples in the minority class by duplicating existing samples.\n",
    "* Randomly select samples from the minority class and duplicate them until the class sizes are balanced.\n",
    "* Keeps all the information from both classes (no data is lost).\n",
    "* Can lead to overfitting, as the model may memorize duplicated samples from the minority class."
   ]
  },
  {
   "cell_type": "code",
   "execution_count": 56,
   "id": "918388cc",
   "metadata": {},
   "outputs": [
    {
     "data": {
      "text/plain": [
       "LogisticRegression()"
      ]
     },
     "execution_count": 56,
     "metadata": {},
     "output_type": "execute_result"
    }
   ],
   "source": [
    "n_pos = y_train.sum()\n",
    "n_neg = len(y_train) - n_pos\n",
    "\n",
    "ratio = {1:n_pos*8, 0:n_neg}\n",
    "\n",
    "ros = os.RandomOverSampler(sampling_strategy= ratio,\n",
    "                           random_state=42)\n",
    "\n",
    "X_train_os, y_train_os = ros.fit_resample(X_train, y_train)\n",
    "\n",
    "lr_os = LogisticRegression()\n",
    "\n",
    "lr_os.fit(X_train_os, y_train_os)"
   ]
  },
  {
   "cell_type": "code",
   "execution_count": 57,
   "id": "e70762c4",
   "metadata": {},
   "outputs": [
    {
     "name": "stdout",
     "output_type": "stream",
     "text": [
      "Training Accurecy : 0.9993153240141324\n",
      "Test Accurecy : 0.9993328885923949\n",
      "Training precision : 0.7931034482758621\n",
      "Test precision : 0.8061224489795918\n",
      "Training recall : 0.817258883248731\n",
      "Test recall : 0.8061224489795918\n",
      "Training f1_score : 0.8050000000000002\n",
      "Test f_score : 0.806122448979592\n"
     ]
    }
   ],
   "source": [
    "print(f'Training Accurecy : {accuracy_score(y_train, lr_os.predict(X_train))}')\n",
    "print(f'Test Accurecy : {accuracy_score(y_test, lr_os.predict(X_test))}')\n",
    "print(f'Training precision : {precision_score(y_train, lr_os.predict(X_train))}')\n",
    "print(f'Test precision : {precision_score(y_test, lr_os.predict(X_test))}')\n",
    "print(f'Training recall : {recall_score(y_train, lr_os.predict(X_train))}')\n",
    "print(f'Test recall : {recall_score(y_test, lr_os.predict(X_test))}')\n",
    "print(f'Training f1_score : {f1_score(y_train, lr_os.predict(X_train))}')\n",
    "print(f'Test f_score : {f1_score(y_test, lr_os.predict(X_test))}')"
   ]
  },
  {
   "cell_type": "code",
   "execution_count": 58,
   "id": "47375673",
   "metadata": {},
   "outputs": [
    {
     "data": {
      "image/png": "[encoded data removed]",
      "text/plain": [
       "<Figure size 700x300 with 2 Axes>"
      ]
     },
     "metadata": {},
     "output_type": "display_data"
    }
   ],
   "source": [
    "sns.heatmap(confusion_matrix(y_test, lr_os.predict(X_test)),\n",
    "           annot = True,\n",
    "           fmt = 'g',\n",
    "           square = True,\n",
    "           cmap = 'Blues');"
   ]
  },
  {
   "cell_type": "code",
   "execution_count": 59,
   "id": "8a5366cd",
   "metadata": {},
   "outputs": [
    {
     "data": {
      "text/plain": [
       "RandomForestClassifier(max_depth=10)"
      ]
     },
     "execution_count": 59,
     "metadata": {},
     "output_type": "execute_result"
    }
   ],
   "source": [
    "n_pos = y_train.sum()\n",
    "n_neg = len(y_train) - n_pos\n",
    "\n",
    "ratio = {1:n_pos*8, 0:n_neg}\n",
    "\n",
    "ros = os.RandomOverSampler(sampling_strategy= ratio,\n",
    "                           random_state=42)\n",
    "\n",
    "X_train_os, y_train_os = ros.fit_resample(X_train, y_train)\n",
    "\n",
    "rf_os = RandomForestClassifier(n_estimators = 100, max_depth = 10)\n",
    "\n",
    "rf_os.fit(X_train_os, y_train_os)"
   ]
  },
  {
   "cell_type": "code",
   "execution_count": 60,
   "id": "a460b20f",
   "metadata": {},
   "outputs": [
    {
     "name": "stdout",
     "output_type": "stream",
     "text": [
      "Training Accurecy : 0.9997103293905945\n",
      "Test Accurecy : 0.9995611109160493\n",
      "Training precision : 0.9739884393063584\n",
      "Test precision : 0.9397590361445783\n",
      "Training recall : 0.8553299492385786\n",
      "Test recall : 0.7959183673469388\n",
      "Training f1_score : 0.910810810810811\n",
      "Test f_score : 0.8618784530386742\n"
     ]
    }
   ],
   "source": [
    "print(f'Training Accurecy : {accuracy_score(y_train, rf_os.predict(X_train))}')\n",
    "print(f'Test Accurecy : {accuracy_score(y_test, rf_os.predict(X_test))}')\n",
    "print(f'Training precision : {precision_score(y_train, rf_os.predict(X_train))}')\n",
    "print(f'Test precision : {precision_score(y_test, rf_os.predict(X_test))}')\n",
    "print(f'Training recall : {recall_score(y_train, rf_os.predict(X_train))}')\n",
    "print(f'Test recall : {recall_score(y_test, rf_os.predict(X_test))}')\n",
    "print(f'Training f1_score : {f1_score(y_train, rf_os.predict(X_train))}')\n",
    "print(f'Test f_score : {f1_score(y_test, rf_os.predict(X_test))}')"
   ]
  },
  {
   "cell_type": "code",
   "execution_count": 61,
   "id": "7d62a754",
   "metadata": {},
   "outputs": [
    {
     "data": {
      "image/png": "[encoded data removed]",
      "text/plain": [
       "<Figure size 700x300 with 2 Axes>"
      ]
     },
     "metadata": {},
     "output_type": "display_data"
    }
   ],
   "source": [
    "sns.heatmap(confusion_matrix(y_test, rf_os.predict(X_test)),\n",
    "           annot = True,\n",
    "           fmt = 'g',\n",
    "           square = True,\n",
    "           cmap = 'Blues');"
   ]
  },
  {
   "cell_type": "markdown",
   "id": "c5606554",
   "metadata": {},
   "source": [
    "## SMOTE"
   ]
  },
  {
   "cell_type": "markdown",
   "id": "88b93438",
   "metadata": {},
   "source": [
    "* SMOTE creates synthetic samples for the minority class by generating new, similar data points.\n",
    "* It creates new samples by interpolating between existing samples in the minority class. Instead of duplicating samples, it generates new synthetic ones that are similar to the existing minority class samples.\n",
    "* Helps to avoid overfitting since new synthetic samples are created rather than duplicating existing ones.\n",
    "* May introduce noise or unrealistic samples, especially if the data is complex."
   ]
  },
  {
   "cell_type": "code",
   "execution_count": 62,
   "id": "5b9f4750",
   "metadata": {},
   "outputs": [
    {
     "data": {
      "text/plain": [
       "LogisticRegression()"
      ]
     },
     "execution_count": 62,
     "metadata": {},
     "output_type": "execute_result"
    }
   ],
   "source": [
    "n_pos = y_train.sum()\n",
    "n_neg = len(y_train) - n_pos\n",
    "\n",
    "ratio = {1:n_pos*8, 0:n_neg}\n",
    "\n",
    "sm = os.SMOTE(sampling_strategy= ratio,\n",
    "                           random_state=42)\n",
    "\n",
    "X_train_sm, y_train_sm = sm.fit_resample(X_train, y_train)\n",
    "\n",
    "lr_sm = LogisticRegression()\n",
    "\n",
    "lr_sm.fit(X_train_sm, y_train_sm)"
   ]
  },
  {
   "cell_type": "code",
   "execution_count": 63,
   "id": "bc8d375b",
   "metadata": {},
   "outputs": [
    {
     "name": "stdout",
     "output_type": "stream",
     "text": [
      "Training Accurecy : 0.9993109350655051\n",
      "Test Accurecy : 0.9992977774656788\n",
      "Training precision : 0.794044665012407\n",
      "Test precision : 0.7959183673469388\n",
      "Training recall : 0.8121827411167513\n",
      "Test recall : 0.7959183673469388\n",
      "Training f1_score : 0.8030112923462986\n",
      "Test f_score : 0.7959183673469388\n"
     ]
    }
   ],
   "source": [
    "print(f'Training Accurecy : {accuracy_score(y_train, lr_sm.predict(X_train))}')\n",
    "print(f'Test Accurecy : {accuracy_score(y_test, lr_sm.predict(X_test))}')\n",
    "print(f'Training precision : {precision_score(y_train, lr_sm.predict(X_train))}')\n",
    "print(f'Test precision : {precision_score(y_test, lr_sm.predict(X_test))}')\n",
    "print(f'Training recall : {recall_score(y_train, lr_sm.predict(X_train))}')\n",
    "print(f'Test recall : {recall_score(y_test, lr_sm.predict(X_test))}')\n",
    "print(f'Training f1_score : {f1_score(y_train, lr_sm.predict(X_train))}')\n",
    "print(f'Test f_score : {f1_score(y_test, lr_sm.predict(X_test))}')"
   ]
  },
  {
   "cell_type": "code",
   "execution_count": 64,
   "id": "d88cd604",
   "metadata": {},
   "outputs": [
    {
     "data": {
      "image/png": "[encoded data removed]",
      "text/plain": [
       "<Figure size 700x300 with 2 Axes>"
      ]
     },
     "metadata": {},
     "output_type": "display_data"
    }
   ],
   "source": [
    "sns.heatmap(confusion_matrix(y_test, lr_sm.predict(X_test)),\n",
    "           annot = True,\n",
    "           fmt = 'g',\n",
    "           square = True,\n",
    "           cmap = 'Blues');"
   ]
  },
  {
   "cell_type": "code",
   "execution_count": 65,
   "id": "b66638ff",
   "metadata": {},
   "outputs": [
    {
     "data": {
      "text/plain": [
       "RandomForestClassifier(max_depth=10)"
      ]
     },
     "execution_count": 65,
     "metadata": {},
     "output_type": "execute_result"
    }
   ],
   "source": [
    "n_pos = y_train.sum()\n",
    "n_neg = len(y_train) - n_pos\n",
    "\n",
    "ratio = {1:n_pos*8, 0:n_neg}\n",
    "\n",
    "sm = os.SMOTE(sampling_strategy= ratio,\n",
    "                           random_state=42)\n",
    "\n",
    "X_train_sm, y_train_sm = sm.fit_resample(X_train, y_train)\n",
    "\n",
    "rf_sm = RandomForestClassifier(n_estimators = 100, max_depth = 10)\n",
    "\n",
    "rf_sm.fit(X_train_sm, y_train_sm)"
   ]
  },
  {
   "cell_type": "code",
   "execution_count": 66,
   "id": "55c0a7d0",
   "metadata": {},
   "outputs": [
    {
     "name": "stdout",
     "output_type": "stream",
     "text": [
      "Training Accurecy : 0.9996971625447124\n",
      "Test Accurecy : 0.9995962220427653\n",
      "Training precision : 0.9765395894428153\n",
      "Test precision : 0.9310344827586207\n",
      "Training recall : 0.8451776649746193\n",
      "Test recall : 0.826530612244898\n",
      "Training f1_score : 0.9061224489795918\n",
      "Test f_score : 0.8756756756756757\n"
     ]
    }
   ],
   "source": [
    "print(f'Training Accurecy : {accuracy_score(y_train, rf_sm.predict(X_train))}')\n",
    "print(f'Test Accurecy : {accuracy_score(y_test, rf_sm.predict(X_test))}')\n",
    "print(f'Training precision : {precision_score(y_train, rf_sm.predict(X_train))}')\n",
    "print(f'Test precision : {precision_score(y_test, rf_sm.predict(X_test))}')\n",
    "print(f'Training recall : {recall_score(y_train, rf_sm.predict(X_train))}')\n",
    "print(f'Test recall : {recall_score(y_test, rf_sm.predict(X_test))}')\n",
    "print(f'Training f1_score : {f1_score(y_train, rf_sm.predict(X_train))}')\n",
    "print(f'Test f_score : {f1_score(y_test, rf_sm.predict(X_test))}')"
   ]
  },
  {
   "cell_type": "code",
   "execution_count": 67,
   "id": "ef0cf39f",
   "metadata": {},
   "outputs": [
    {
     "data": {
      "image/png": "[encoded data removed]",
      "text/plain": [
       "<Figure size 700x300 with 2 Axes>"
      ]
     },
     "metadata": {},
     "output_type": "display_data"
    }
   ],
   "source": [
    "sns.heatmap(confusion_matrix(y_test, rf_sm.predict(X_test)),\n",
    "           annot = True,\n",
    "           fmt = 'g',\n",
    "           square = True,\n",
    "           cmap = 'Blues');"
   ]
  },
  {
   "cell_type": "code",
   "execution_count": 68,
   "id": "41a6dd42",
   "metadata": {},
   "outputs": [
    {
     "data": {
      "image/png": "[encoded data removed]",
      "text/plain": [
       "<Figure size 700x300 with 1 Axes>"
      ]
     },
     "metadata": {},
     "output_type": "display_data"
    }
   ],
   "source": [
    "## precision and recall curve\n",
    "\n",
    "p_curve, r_curve, t_curve = precision_recall_curve(y_train, rf_sm.predict_proba(X_train)[:,1])\n",
    "\n",
    "plt.plot(t_curve, p_curve[:-1], label=\"Precision Score\")\n",
    "plt.plot(t_curve, r_curve[:-1], label=\"Recall Score\")\n",
    "plt.title(\"Precision Recall Curve\")\n",
    "plt.xlabel(\"Threshold Values\")\n",
    "plt.ylabel(\"Scores\")\n",
    "plt.legend()\n",
    "plt.show()"
   ]
  },
  {
   "cell_type": "code",
   "execution_count": 69,
   "id": "75290c28",
   "metadata": {},
   "outputs": [],
   "source": [
    "f1 = []\n",
    "thresholds = np.linspace(0, 1, 101)\n",
    "\n",
    "for thresh in thresholds:\n",
    "    y_preb = rf_sm.predict_proba(X_train)[:,1] > thresh\n",
    "    score = f1_score(y_train, y_preb)\n",
    "    f1.append(score)"
   ]
  },
  {
   "cell_type": "code",
   "execution_count": 70,
   "id": "20ddf0d4",
   "metadata": {},
   "outputs": [
    {
     "data": {
      "image/png": "[encoded data removed]",
      "text/plain": [
       "<Figure size 700x300 with 1 Axes>"
      ]
     },
     "metadata": {},
     "output_type": "display_data"
    }
   ],
   "source": [
    "sns.lineplot(x=thresholds, y=f1)\n",
    "plt.show()"
   ]
  },
  {
   "cell_type": "code",
   "execution_count": 71,
   "id": "06af2b91",
   "metadata": {},
   "outputs": [],
   "source": [
    "# thresh = thresholds[f1.index(max(f1))]\n",
    "thresh = 0.2"
   ]
  },
  {
   "cell_type": "code",
   "execution_count": 72,
   "id": "329ccef1",
   "metadata": {},
   "outputs": [
    {
     "data": {
      "text/plain": [
       "RandomForestClassifier(max_depth=10)"
      ]
     },
     "execution_count": 72,
     "metadata": {},
     "output_type": "execute_result"
    }
   ],
   "source": [
    "rf_sm_thresh = RandomForestClassifier(n_estimators=100, max_depth=10)\n",
    "\n",
    "rf_sm_thresh.fit(X_train, y_train)"
   ]
  },
  {
   "cell_type": "code",
   "execution_count": 73,
   "id": "3d2dd5a5",
   "metadata": {},
   "outputs": [
    {
     "name": "stdout",
     "output_type": "stream",
     "text": [
      "Training Accurecy : 0.9996839956988304\n",
      "Test Accurecy : 0.9994557775359011\n",
      "Training precision : 0.952247191011236\n",
      "Test precision : 0.8383838383838383\n",
      "Training recall : 0.8604060913705583\n",
      "Test recall : 0.8469387755102041\n",
      "Training f1_score : 0.9039999999999999\n",
      "Test f_score : 0.8426395939086294\n"
     ]
    }
   ],
   "source": [
    "print(f'Training Accurecy : {accuracy_score(y_train, rf_sm_thresh.predict_proba(X_train)[:,1] > thresh)}')\n",
    "print(f'Test Accurecy : {accuracy_score(y_test, rf_sm_thresh.predict_proba(X_test)[:,1] > thresh)}')\n",
    "print(f'Training precision : {precision_score(y_train, rf_sm_thresh.predict_proba(X_train)[:,1] > thresh)}')\n",
    "print(f'Test precision : {precision_score(y_test, rf_sm_thresh.predict_proba(X_test)[:,1] > thresh)}')\n",
    "print(f'Training recall : {recall_score(y_train, rf_sm_thresh.predict_proba(X_train)[:,1] > thresh)}')\n",
    "print(f'Test recall : {recall_score(y_test, rf_sm_thresh.predict_proba(X_test)[:,1] > thresh)}')\n",
    "print(f'Training f1_score : {f1_score(y_train, rf_sm_thresh.predict_proba(X_train)[:,1] > thresh)}')\n",
    "print(f'Test f_score : {f1_score(y_test, rf_sm_thresh.predict_proba(X_test)[:,1] > thresh)}')"
   ]
  },
  {
   "cell_type": "code",
   "execution_count": 74,
   "id": "84e90d01",
   "metadata": {},
   "outputs": [
    {
     "data": {
      "image/png": "[encoded data removed]",
      "text/plain": [
       "<Figure size 700x300 with 2 Axes>"
      ]
     },
     "metadata": {},
     "output_type": "display_data"
    }
   ],
   "source": [
    "sns.heatmap(confusion_matrix(y_test, rf_sm_thresh.predict_proba(X_test)[:,1]>thresh),\n",
    "           annot = True,\n",
    "           fmt = 'g',\n",
    "           square = True,\n",
    "           cmap = 'Blues');"
   ]
  },
  {
   "cell_type": "markdown",
   "id": "fa4f6afd",
   "metadata": {},
   "source": [
    "## Class Weight"
   ]
  },
  {
   "cell_type": "markdown",
   "id": "d086e5b6",
   "metadata": {},
   "source": [
    "* Instead of resampling the data, you assign different importance (or \"weight\") to each class during model training.\n",
    "* You can adjust the class_weight parameter to give more importance to the minority class. The algorithm then pays more attention to the minority class when learning from the data.\n",
    "* No data is removed or added, so you avoid overfitting and loss of information.\n",
    "* It might not always be as effective as resampling techniques, especially for highly imbalanced datasets."
   ]
  },
  {
   "cell_type": "code",
   "execution_count": 75,
   "id": "c1e0edb5",
   "metadata": {},
   "outputs": [
    {
     "data": {
      "text/plain": [
       "LogisticRegression(class_weight={0: 1, 1: 8})"
      ]
     },
     "execution_count": 75,
     "metadata": {},
     "output_type": "execute_result"
    }
   ],
   "source": [
    "ratio = {0: 1, 1: 8}\n",
    "\n",
    "lr_balance = LogisticRegression(class_weight = ratio)\n",
    "\n",
    "lr_balance.fit(X_train, y_train)"
   ]
  },
  {
   "cell_type": "code",
   "execution_count": 76,
   "id": "3146f9ba",
   "metadata": {},
   "outputs": [
    {
     "name": "stdout",
     "output_type": "stream",
     "text": [
      "Training Accurecy : 0.999297768219623\n",
      "Test Accurecy : 0.9993328885923949\n",
      "Training precision : 0.7853658536585366\n",
      "Test precision : 0.8061224489795918\n",
      "Training recall : 0.817258883248731\n",
      "Test recall : 0.8061224489795918\n",
      "Training f1_score : 0.8009950248756219\n",
      "Test f_score : 0.806122448979592\n"
     ]
    }
   ],
   "source": [
    "print(f'Training Accurecy : {accuracy_score(y_train, lr_balance.predict(X_train))}')\n",
    "print(f'Test Accurecy : {accuracy_score(y_test, lr_balance.predict(X_test))}')\n",
    "print(f'Training precision : {precision_score(y_train, lr_balance.predict(X_train))}')\n",
    "print(f'Test precision : {precision_score(y_test, lr_balance.predict(X_test))}')\n",
    "print(f'Training recall : {recall_score(y_train, lr_balance.predict(X_train))}')\n",
    "print(f'Test recall : {recall_score(y_test, lr_balance.predict(X_test))}')\n",
    "print(f'Training f1_score : {f1_score(y_train, lr_balance.predict(X_train))}')\n",
    "print(f'Test f_score : {f1_score(y_test, lr_balance.predict(X_test))}')"
   ]
  },
  {
   "cell_type": "code",
   "execution_count": 77,
   "id": "42cde700",
   "metadata": {},
   "outputs": [
    {
     "data": {
      "image/png": "[encoded data removed]",
      "text/plain": [
       "<Figure size 700x300 with 2 Axes>"
      ]
     },
     "metadata": {},
     "output_type": "display_data"
    }
   ],
   "source": [
    "sns.heatmap(confusion_matrix(y_test, lr_balance.predict(X_test)),\n",
    "           annot = True,\n",
    "           fmt = 'g',\n",
    "           square = True,\n",
    "           cmap = 'Blues');"
   ]
  },
  {
   "cell_type": "markdown",
   "id": "8cf8aee4",
   "metadata": {},
   "source": [
    "### Random Forest"
   ]
  },
  {
   "cell_type": "code",
   "execution_count": 78,
   "id": "26531847",
   "metadata": {},
   "outputs": [
    {
     "data": {
      "text/plain": [
       "RandomForestClassifier(class_weight={0: 1, 1: 8})"
      ]
     },
     "execution_count": 78,
     "metadata": {},
     "output_type": "execute_result"
    }
   ],
   "source": [
    "rf_balance = RandomForestClassifier(class_weight = ratio)\n",
    "\n",
    "rf_balance.fit(X_train, y_train)"
   ]
  },
  {
   "cell_type": "code",
   "execution_count": 79,
   "id": "a4d0a973",
   "metadata": {},
   "outputs": [
    {
     "name": "stdout",
     "output_type": "stream",
     "text": [
      "Training Accurecy : 0.9999956110513727\n",
      "Test Accurecy : 0.9995611109160493\n",
      "Training precision : 1.0\n",
      "Test precision : 0.9866666666666667\n",
      "Training recall : 0.9974619289340102\n",
      "Test recall : 0.7551020408163265\n",
      "Training f1_score : 0.9987293519695045\n",
      "Test f_score : 0.8554913294797689\n"
     ]
    }
   ],
   "source": [
    "print(f'Training Accurecy : {accuracy_score(y_train, rf_balance.predict(X_train))}')\n",
    "print(f'Test Accurecy : {accuracy_score(y_test, rf_balance.predict(X_test))}')\n",
    "print(f'Training precision : {precision_score(y_train, rf_balance.predict(X_train))}')\n",
    "print(f'Test precision : {precision_score(y_test, rf_balance.predict(X_test))}')\n",
    "print(f'Training recall : {recall_score(y_train, rf_balance.predict(X_train))}')\n",
    "print(f'Test recall : {recall_score(y_test, rf_balance.predict(X_test))}')\n",
    "print(f'Training f1_score : {f1_score(y_train, rf_balance.predict(X_train))}')\n",
    "print(f'Test f_score : {f1_score(y_test, rf_balance.predict(X_test))}')"
   ]
  },
  {
   "cell_type": "code",
   "execution_count": 80,
   "id": "986eef83",
   "metadata": {},
   "outputs": [
    {
     "data": {
      "image/png": "[encoded data removed]",
      "text/plain": [
       "<Figure size 700x300 with 2 Axes>"
      ]
     },
     "metadata": {},
     "output_type": "display_data"
    }
   ],
   "source": [
    "sns.heatmap(confusion_matrix(y_test, rf_balance.predict(X_test)),\n",
    "           annot = True,\n",
    "           fmt = 'g',\n",
    "           square = True,\n",
    "           cmap = 'Blues');"
   ]
  },
  {
   "cell_type": "code",
   "execution_count": 81,
   "id": "cb82b3ed",
   "metadata": {},
   "outputs": [],
   "source": [
    "thresh_balance_rf = 0.18"
   ]
  },
  {
   "cell_type": "code",
   "execution_count": 82,
   "id": "8f459782",
   "metadata": {},
   "outputs": [
    {
     "name": "stdout",
     "output_type": "stream",
     "text": [
      "Training Accurecy : 0.999679606750203\n",
      "Test Accurecy : 0.9994382219725431\n",
      "Training precision : 0.9495798319327731\n",
      "Test precision : 0.83\n",
      "Training recall : 0.8604060913705583\n",
      "Test recall : 0.8469387755102041\n",
      "Training f1_score : 0.9027962716378163\n",
      "Test f_score : 0.8383838383838385\n"
     ]
    }
   ],
   "source": [
    "print(f'Training Accurecy : {accuracy_score(y_train, rf_sm_thresh.predict_proba(X_train)[:,1] > thresh_balance_rf)}')\n",
    "print(f'Test Accurecy : {accuracy_score(y_test, rf_sm_thresh.predict_proba(X_test)[:,1] > thresh_balance_rf)}')\n",
    "print(f'Training precision : {precision_score(y_train, rf_sm_thresh.predict_proba(X_train)[:,1] > thresh_balance_rf)}')\n",
    "print(f'Test precision : {precision_score(y_test, rf_sm_thresh.predict_proba(X_test)[:,1] > thresh_balance_rf)}')\n",
    "print(f'Training recall : {recall_score(y_train, rf_sm_thresh.predict_proba(X_train)[:,1] > thresh_balance_rf)}')\n",
    "print(f'Test recall : {recall_score(y_test, rf_sm_thresh.predict_proba(X_test)[:,1] > thresh_balance_rf)}')\n",
    "print(f'Training f1_score : {f1_score(y_train, rf_sm_thresh.predict_proba(X_train)[:,1] > thresh_balance_rf)}')\n",
    "print(f'Test f_score : {f1_score(y_test, rf_sm_thresh.predict_proba(X_test)[:,1] > thresh_balance_rf)}')"
   ]
  },
  {
   "cell_type": "code",
   "execution_count": 83,
   "id": "45a58579",
   "metadata": {},
   "outputs": [
    {
     "data": {
      "image/png": "[encoded data removed]",
      "text/plain": [
       "<Figure size 700x300 with 2 Axes>"
      ]
     },
     "metadata": {},
     "output_type": "display_data"
    }
   ],
   "source": [
    "sns.heatmap(confusion_matrix(y_test, rf_balance.predict_proba(X_test)[:,1] > thresh_balance_rf),\n",
    "           annot = True,\n",
    "           fmt = 'g',\n",
    "           square = True,\n",
    "           cmap = 'Blues');"
   ]
  },
  {
   "cell_type": "markdown",
   "id": "4e5d4484",
   "metadata": {},
   "source": [
    "We got the best prediction for the **Random Forest model** after adjusting a `class_weight` parameter `threshold value` \n",
    "\n",
    "* In our test data there were 98 fraud transactions and out of those we are able to identify 84 correctly. \n",
    "* In this project, we are try to maximize `recall_score` because here we have high risk of predicting fraud transaction as a genuine transaction. For the **Random Forest Model** we got the best `recall_score`."
   ]
  },
  {
   "cell_type": "code",
   "execution_count": null,
   "id": "6a1b163a",
   "metadata": {},
   "outputs": [],
   "source": []
  }
 ],
 "metadata": {
  "kernelspec": {
   "display_name": "Python 3 (ipykernel)",
   "language": "python",
   "name": "python3"
  },
  "language_info": {
   "codemirror_mode": {
    "name": "ipython",
    "version": 3
   },
   "file_extension": ".py",
   "mimetype": "text/x-python",
   "name": "python",
   "nbconvert_exporter": "python",
   "pygments_lexer": "ipython3",
   "version": "3.10.9"
  }
 },
 "nbformat": 4,
 "nbformat_minor": 5
}
